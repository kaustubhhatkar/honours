{
 "cells": [
  {
   "cell_type": "markdown",
   "metadata": {
    "id": "nYUebP-4Dxqc"
   },
   "source": [
    "<h1 style=\"font-family:Patua One;text-align:center;font-size=45px;color:#049AE1;\">Machine Learning Laboratory </h1>\n",
    "<h2 style=\"font-family:Patua One;text-align:center;font-size=45px;color:#049AE1;\">(410302) </h2>\n",
    "<h3 style=\"font-family:Bookman Old Style;text-align:center;font-size=35px;color:#03D1EE;\">BE Sem I Honors in AI/ML </h3>\n",
    "<h4 style=\"font-family:Bookman Old Style;text-align:center;font-size=30px;color:#03D1EE;\">Academic Year: 2022-23 </h4>\n",
    "<h2 style=\"font-family:Farro;text-align:center;font-size=50px;color:#02DA87;\">Lab Assignment No.1  </h2>\n",
    "<h4 style=\"font-family:Bookman Old Style;text-align:right;font-size=30px;color:#A6065B;\">Name - XYZ </h4>\n",
    "<h4 style=\"font-family:Bookman Old Style;text-align:right;font-size=30px;color:#A6065B;\">Roll No. - 12345 </h4>\n",
    "<h4 style=\"font-family:Bookman Old Style;text-align:right;font-size=30px;color:#A6065B;\">Branch - E&TE </h4>\n",
    "<h4 style=\"font-family:Bookman Old Style;text-align:right;font-size=30px;color:#A6065B;\">College - P.I.C.T </h4>\n",
    "<br>"
   ]
  },
  {
   "cell_type": "markdown",
   "metadata": {},
   "source": [
    "<p style=\"font-family:Footlight MT Light;text-align:left;font-size:1.2em;font-weight:bold;color:#E35E06;\">Problem Statement:<br>Creating & Visualizing Neural Network for the given data.\n",
    "</p>"
   ]
  },
  {
   "cell_type": "markdown",
   "metadata": {
    "id": "-0OPccbXD2iv"
   },
   "source": [
    "<p style=\"font-family:Footlight MT Light;text-align:left;font-size:1.2em;font-weight:bold;color:#D90571;\">Note:<br>1. Download dataset using Kaggle or you can use any other dataset.<br>2. Keras, ANN visualizer, graph viz libraries are required.\n",
    "<br>3. Learn to preprocess your data, model, evaluate and optimize neural networks.<br><br>\n",
    "</p>"
   ]
  },
  {
   "cell_type": "code",
   "execution_count": 28,
   "metadata": {},
   "outputs": [],
   "source": [
    "import os\n",
    "\n",
    "import numpy as np\n",
    "\n",
    "import pandas as pd\n",
    "\n",
    "from sklearn.model_selection import train_test_split\n",
    "\n",
    "import tensorflow as tf\n",
    "\n",
    "from tensorflow import keras\n",
    "\n",
    "from tensorflow.keras.layers import Dense, Dropout\n",
    "\n",
    "from tensorflow.keras.models import Sequential, load_model\n",
    "\n",
    "from tensorflow.keras import optimizers\n",
    "\n",
    "from tensorflow.keras.datasets import mnist\n",
    "\n",
    "import matplotlib.pyplot as plt\n",
    "\n",
    "import itertools\n",
    "\n",
    "import seaborn as sns"
   ]
  },
  {
   "cell_type": "code",
   "execution_count": 29,
   "metadata": {},
   "outputs": [],
   "source": [
    "# show data\n",
    "\n",
    "(X_train, y_train), (X_test, y_test) = mnist.load_data()"
   ]
  },
  {
   "cell_type": "code",
   "execution_count": 30,
   "metadata": {},
   "outputs": [
    {
     "data": {
      "image/png": "[encoded data removed]",
      "text/plain": [
       "<Figure size 432x288 with 4 Axes>"
      ]
     },
     "metadata": {
      "needs_background": "light"
     },
     "output_type": "display_data"
    }
   ],
   "source": [
    "# plot 4 images as gray scale\n",
    "\n",
    "plt.subplot(221)\n",
    "\n",
    "plt.imshow(X_train[0], cmap=plt.get_cmap('gray'))\n",
    "\n",
    "plt.subplot(222)\n",
    "\n",
    "plt.imshow(X_train[1], cmap=plt.get_cmap('gray'))\n",
    "\n",
    "plt.subplot(223)\n",
    "\n",
    "plt.imshow(X_train[2], cmap=plt.get_cmap('gray'))\n",
    "\n",
    "plt.subplot(224)\n",
    "\n",
    "plt.imshow(X_train[3], cmap=plt.get_cmap('gray'))\n",
    "\n",
    "# show the plot\n",
    "\n",
    "plt.show()"
   ]
  },
  {
   "cell_type": "code",
   "execution_count": 31,
   "metadata": {},
   "outputs": [
    {
     "data": {
      "text/plain": [
       "(    0   1   2   3    4    5    6    7    8    9    10   11   12   13   14  \\\n",
       " 0    0   0   0   0    0    0    0    0    0    0    0    0    0    0    0   \n",
       " 1    0   0   0   0    0    0    0    0    0    0    0    0    0    0    0   \n",
       " 2    0   0   0   0    0    0    0    0    0    0    0    0    0    0    0   \n",
       " 3    0   0   0   0    0    0    0    0    0    0    0    0    0    0    0   \n",
       " 4    0   0   0   0    0    0    0    0    0    0    0    0    0    0    0   \n",
       " 5    0   0   0   0    0    0    0    0    0    0    0    0    3   18   18   \n",
       " 6    0   0   0   0    0    0    0    0   30   36   94  154  170  253  253   \n",
       " 7    0   0   0   0    0    0    0   49  238  253  253  253  253  253  253   \n",
       " 8    0   0   0   0    0    0    0   18  219  253  253  253  253  253  198   \n",
       " 9    0   0   0   0    0    0    0    0   80  156  107  253  253  205   11   \n",
       " 10   0   0   0   0    0    0    0    0    0   14    1  154  253   90    0   \n",
       " 11   0   0   0   0    0    0    0    0    0    0    0  139  253  190    2   \n",
       " 12   0   0   0   0    0    0    0    0    0    0    0   11  190  253   70   \n",
       " 13   0   0   0   0    0    0    0    0    0    0    0    0   35  241  225   \n",
       " 14   0   0   0   0    0    0    0    0    0    0    0    0    0   81  240   \n",
       " 15   0   0   0   0    0    0    0    0    0    0    0    0    0    0   45   \n",
       " 16   0   0   0   0    0    0    0    0    0    0    0    0    0    0    0   \n",
       " 17   0   0   0   0    0    0    0    0    0    0    0    0    0    0    0   \n",
       " 18   0   0   0   0    0    0    0    0    0    0    0    0    0    0   46   \n",
       " 19   0   0   0   0    0    0    0    0    0    0    0    0   39  148  229   \n",
       " 20   0   0   0   0    0    0    0    0    0    0   24  114  221  253  253   \n",
       " 21   0   0   0   0    0    0    0    0   23   66  213  253  253  253  253   \n",
       " 22   0   0   0   0    0    0   18  171  219  253  253  253  253  195   80   \n",
       " 23   0   0   0   0   55  172  226  253  253  253  253  244  133   11    0   \n",
       " 24   0   0   0   0  136  253  253  253  212  135  132   16    0    0    0   \n",
       " 25   0   0   0   0    0    0    0    0    0    0    0    0    0    0    0   \n",
       " 26   0   0   0   0    0    0    0    0    0    0    0    0    0    0    0   \n",
       " 27   0   0   0   0    0    0    0    0    0    0    0    0    0    0    0   \n",
       " \n",
       "      15   16   17   18   19   20   21   22   23  24  25  26  27  \n",
       " 0     0    0    0    0    0    0    0    0    0   0   0   0   0  \n",
       " 1     0    0    0    0    0    0    0    0    0   0   0   0   0  \n",
       " 2     0    0    0    0    0    0    0    0    0   0   0   0   0  \n",
       " 3     0    0    0    0    0    0    0    0    0   0   0   0   0  \n",
       " 4     0    0    0    0    0    0    0    0    0   0   0   0   0  \n",
       " 5    18  126  136  175   26  166  255  247  127   0   0   0   0  \n",
       " 6   253  253  253  225  172  253  242  195   64   0   0   0   0  \n",
       " 7   253  253  251   93   82   82   56   39    0   0   0   0   0  \n",
       " 8   182  247  241    0    0    0    0    0    0   0   0   0   0  \n",
       " 9     0   43  154    0    0    0    0    0    0   0   0   0   0  \n",
       " 10    0    0    0    0    0    0    0    0    0   0   0   0   0  \n",
       " 11    0    0    0    0    0    0    0    0    0   0   0   0   0  \n",
       " 12    0    0    0    0    0    0    0    0    0   0   0   0   0  \n",
       " 13  160  108    1    0    0    0    0    0    0   0   0   0   0  \n",
       " 14  253  253  119   25    0    0    0    0    0   0   0   0   0  \n",
       " 15  186  253  253  150   27    0    0    0    0   0   0   0   0  \n",
       " 16   16   93  252  253  187    0    0    0    0   0   0   0   0  \n",
       " 17    0    0  249  253  249   64    0    0    0   0   0   0   0  \n",
       " 18  130  183  253  253  207    2    0    0    0   0   0   0   0  \n",
       " 19  253  253  253  250  182    0    0    0    0   0   0   0   0  \n",
       " 20  253  253  201   78    0    0    0    0    0   0   0   0   0  \n",
       " 21  198   81    2    0    0    0    0    0    0   0   0   0   0  \n",
       " 22    9    0    0    0    0    0    0    0    0   0   0   0   0  \n",
       " 23    0    0    0    0    0    0    0    0    0   0   0   0   0  \n",
       " 24    0    0    0    0    0    0    0    0    0   0   0   0   0  \n",
       " 25    0    0    0    0    0    0    0    0    0   0   0   0   0  \n",
       " 26    0    0    0    0    0    0    0    0    0   0   0   0   0  \n",
       " 27    0    0    0    0    0    0    0    0    0   0   0   0   0  ,)"
      ]
     },
     "execution_count": 31,
     "metadata": {},
     "output_type": "execute_result"
    }
   ],
   "source": [
    "pd.set_option('display.max_columns', 28)\n",
    "\n",
    "pd.DataFrame(X_train[0]), "
   ]
  },
  {
   "cell_type": "code",
   "execution_count": 32,
   "metadata": {},
   "outputs": [
    {
     "data": {
      "text/plain": [
       "(5, <matplotlib.image.AxesImage at 0x2d6f1cc8df0>)"
      ]
     },
     "execution_count": 32,
     "metadata": {},
     "output_type": "execute_result"
    },
    {
     "data": {
      "image/png": "[encoded data removed]",
      "text/plain": [
       "<Figure size 432x288 with 1 Axes>"
      ]
     },
     "metadata": {
      "needs_background": "light"
     },
     "output_type": "display_data"
    }
   ],
   "source": [
    "(y_train[0], plt.imshow(X_train[0], cmap=plt.get_cmap('gray')))"
   ]
  },
  {
   "cell_type": "code",
   "execution_count": 33,
   "metadata": {},
   "outputs": [
    {
     "data": {
      "text/plain": [
       "(5,\n",
       " array([[  0,   0,   0,   0,   0,   0,   0,   0,   0,   0,   0,   0,   0,\n",
       "           0,   0,   0,   0,   0,   0,   0,   0,   0,   0,   0,   0,   0,\n",
       "           0,   0],\n",
       "        [  0,   0,   0,   0,   0,   0,   0,   0,   0,   0,   0,   0,   0,\n",
       "           0,   0,   0,   0,   0,   0,   0,   0,   0,   0,   0,   0,   0,\n",
       "           0,   0],\n",
       "        [  0,   0,   0,   0,   0,   0,   0,   0,   0,   0,   0,   0,   0,\n",
       "           0,   0,   0,   0,   0,   0,   0,   0,   0,   0,   0,   0,   0,\n",
       "           0,   0],\n",
       "        [  0,   0,   0,   0,   0,   0,   0,   0,   0,   0,   0,   0,   0,\n",
       "           0,   0,   0,   0,   0,   0,   0,   0,   0,   0,   0,   0,   0,\n",
       "           0,   0],\n",
       "        [  0,   0,   0,   0,   0,   0,   0,   0,   0,   0,   0,   0,   0,\n",
       "           0,   0,   0,   0,   0,   0,   0,   0,   0,   0,   0,   0,   0,\n",
       "           0,   0],\n",
       "        [  0,   0,   0,   0,   0,   0,   0,   0,   0,   0,   0,   0,   3,\n",
       "          18,  18,  18, 126, 136, 175,  26, 166, 255, 247, 127,   0,   0,\n",
       "           0,   0],\n",
       "        [  0,   0,   0,   0,   0,   0,   0,   0,  30,  36,  94, 154, 170,\n",
       "         253, 253, 253, 253, 253, 225, 172, 253, 242, 195,  64,   0,   0,\n",
       "           0,   0],\n",
       "        [  0,   0,   0,   0,   0,   0,   0,  49, 238, 253, 253, 253, 253,\n",
       "         253, 253, 253, 253, 251,  93,  82,  82,  56,  39,   0,   0,   0,\n",
       "           0,   0],\n",
       "        [  0,   0,   0,   0,   0,   0,   0,  18, 219, 253, 253, 253, 253,\n",
       "         253, 198, 182, 247, 241,   0,   0,   0,   0,   0,   0,   0,   0,\n",
       "           0,   0],\n",
       "        [  0,   0,   0,   0,   0,   0,   0,   0,  80, 156, 107, 253, 253,\n",
       "         205,  11,   0,  43, 154,   0,   0,   0,   0,   0,   0,   0,   0,\n",
       "           0,   0],\n",
       "        [  0,   0,   0,   0,   0,   0,   0,   0,   0,  14,   1, 154, 253,\n",
       "          90,   0,   0,   0,   0,   0,   0,   0,   0,   0,   0,   0,   0,\n",
       "           0,   0],\n",
       "        [  0,   0,   0,   0,   0,   0,   0,   0,   0,   0,   0, 139, 253,\n",
       "         190,   2,   0,   0,   0,   0,   0,   0,   0,   0,   0,   0,   0,\n",
       "           0,   0],\n",
       "        [  0,   0,   0,   0,   0,   0,   0,   0,   0,   0,   0,  11, 190,\n",
       "         253,  70,   0,   0,   0,   0,   0,   0,   0,   0,   0,   0,   0,\n",
       "           0,   0],\n",
       "        [  0,   0,   0,   0,   0,   0,   0,   0,   0,   0,   0,   0,  35,\n",
       "         241, 225, 160, 108,   1,   0,   0,   0,   0,   0,   0,   0,   0,\n",
       "           0,   0],\n",
       "        [  0,   0,   0,   0,   0,   0,   0,   0,   0,   0,   0,   0,   0,\n",
       "          81, 240, 253, 253, 119,  25,   0,   0,   0,   0,   0,   0,   0,\n",
       "           0,   0],\n",
       "        [  0,   0,   0,   0,   0,   0,   0,   0,   0,   0,   0,   0,   0,\n",
       "           0,  45, 186, 253, 253, 150,  27,   0,   0,   0,   0,   0,   0,\n",
       "           0,   0],\n",
       "        [  0,   0,   0,   0,   0,   0,   0,   0,   0,   0,   0,   0,   0,\n",
       "           0,   0,  16,  93, 252, 253, 187,   0,   0,   0,   0,   0,   0,\n",
       "           0,   0],\n",
       "        [  0,   0,   0,   0,   0,   0,   0,   0,   0,   0,   0,   0,   0,\n",
       "           0,   0,   0,   0, 249, 253, 249,  64,   0,   0,   0,   0,   0,\n",
       "           0,   0],\n",
       "        [  0,   0,   0,   0,   0,   0,   0,   0,   0,   0,   0,   0,   0,\n",
       "           0,  46, 130, 183, 253, 253, 207,   2,   0,   0,   0,   0,   0,\n",
       "           0,   0],\n",
       "        [  0,   0,   0,   0,   0,   0,   0,   0,   0,   0,   0,   0,  39,\n",
       "         148, 229, 253, 253, 253, 250, 182,   0,   0,   0,   0,   0,   0,\n",
       "           0,   0],\n",
       "        [  0,   0,   0,   0,   0,   0,   0,   0,   0,   0,  24, 114, 221,\n",
       "         253, 253, 253, 253, 201,  78,   0,   0,   0,   0,   0,   0,   0,\n",
       "           0,   0],\n",
       "        [  0,   0,   0,   0,   0,   0,   0,   0,  23,  66, 213, 253, 253,\n",
       "         253, 253, 198,  81,   2,   0,   0,   0,   0,   0,   0,   0,   0,\n",
       "           0,   0],\n",
       "        [  0,   0,   0,   0,   0,   0,  18, 171, 219, 253, 253, 253, 253,\n",
       "         195,  80,   9,   0,   0,   0,   0,   0,   0,   0,   0,   0,   0,\n",
       "           0,   0],\n",
       "        [  0,   0,   0,   0,  55, 172, 226, 253, 253, 253, 253, 244, 133,\n",
       "          11,   0,   0,   0,   0,   0,   0,   0,   0,   0,   0,   0,   0,\n",
       "           0,   0],\n",
       "        [  0,   0,   0,   0, 136, 253, 253, 253, 212, 135, 132,  16,   0,\n",
       "           0,   0,   0,   0,   0,   0,   0,   0,   0,   0,   0,   0,   0,\n",
       "           0,   0],\n",
       "        [  0,   0,   0,   0,   0,   0,   0,   0,   0,   0,   0,   0,   0,\n",
       "           0,   0,   0,   0,   0,   0,   0,   0,   0,   0,   0,   0,   0,\n",
       "           0,   0],\n",
       "        [  0,   0,   0,   0,   0,   0,   0,   0,   0,   0,   0,   0,   0,\n",
       "           0,   0,   0,   0,   0,   0,   0,   0,   0,   0,   0,   0,   0,\n",
       "           0,   0],\n",
       "        [  0,   0,   0,   0,   0,   0,   0,   0,   0,   0,   0,   0,   0,\n",
       "           0,   0,   0,   0,   0,   0,   0,   0,   0,   0,   0,   0,   0,\n",
       "           0,   0]], dtype=uint8))"
      ]
     },
     "execution_count": 33,
     "metadata": {},
     "output_type": "execute_result"
    }
   ],
   "source": [
    "(y_train[0], X_train[0])"
   ]
  },
  {
   "cell_type": "code",
   "execution_count": 34,
   "metadata": {},
   "outputs": [
    {
     "name": "stdout",
     "output_type": "stream",
     "text": [
      "Shape X train:  (60000, 28, 28)\n",
      "Shape y train:  (60000,)\n"
     ]
    }
   ],
   "source": [
    "print('Shape X train: ', X_train.shape)\n",
    "\n",
    "print('Shape y train: ', y_train.shape)"
   ]
  },
  {
   "cell_type": "code",
   "execution_count": 35,
   "metadata": {},
   "outputs": [
    {
     "name": "stdout",
     "output_type": "stream",
     "text": [
      "Shape X train:  (60000, 784)\n"
     ]
    }
   ],
   "source": [
    "# flattening 28*28 images to a 784 vector for each image\n",
    "\n",
    "num_pixels = X_train.shape[1] * X_train.shape[2]\n",
    "\n",
    "X_train = X_train.reshape(X_train.shape[0],num_pixels).astype('float32')\n",
    "\n",
    "X_test = X_test.reshape(X_test.shape[0],num_pixels).astype('float32')\n",
    "\n",
    "print('Shape X train: ', X_train.shape)"
   ]
  },
  {
   "cell_type": "code",
   "execution_count": 36,
   "metadata": {},
   "outputs": [
    {
     "data": {
      "text/plain": [
       "(5,\n",
       " array([  0.,   0.,   0.,   0.,   0.,   0.,   0.,   0.,   0.,   0.,   0.,\n",
       "          0.,   0.,   0.,   0.,   0.,   0.,   0.,   0.,   0.,   0.,   0.,\n",
       "          0.,   0.,   0.,   0.,   0.,   0.,   0.,   0.,   0.,   0.,   0.,\n",
       "          0.,   0.,   0.,   0.,   0.,   0.,   0.,   0.,   0.,   0.,   0.,\n",
       "          0.,   0.,   0.,   0.,   0.,   0.,   0.,   0.,   0.,   0.,   0.,\n",
       "          0.,   0.,   0.,   0.,   0.,   0.,   0.,   0.,   0.,   0.,   0.,\n",
       "          0.,   0.,   0.,   0.,   0.,   0.,   0.,   0.,   0.,   0.,   0.,\n",
       "          0.,   0.,   0.,   0.,   0.,   0.,   0.,   0.,   0.,   0.,   0.,\n",
       "          0.,   0.,   0.,   0.,   0.,   0.,   0.,   0.,   0.,   0.,   0.,\n",
       "          0.,   0.,   0.,   0.,   0.,   0.,   0.,   0.,   0.,   0.,   0.,\n",
       "          0.,   0.,   0.,   0.,   0.,   0.,   0.,   0.,   0.,   0.,   0.,\n",
       "          0.,   0.,   0.,   0.,   0.,   0.,   0.,   0.,   0.,   0.,   0.,\n",
       "          0.,   0.,   0.,   0.,   0.,   0.,   0.,   0.,   0.,   0.,   0.,\n",
       "          0.,   0.,   0.,   0.,   0.,   0.,   0.,   0.,   0.,   3.,  18.,\n",
       "         18.,  18., 126., 136., 175.,  26., 166., 255., 247., 127.,   0.,\n",
       "          0.,   0.,   0.,   0.,   0.,   0.,   0.,   0.,   0.,   0.,   0.,\n",
       "         30.,  36.,  94., 154., 170., 253., 253., 253., 253., 253., 225.,\n",
       "        172., 253., 242., 195.,  64.,   0.,   0.,   0.,   0.,   0.,   0.,\n",
       "          0.,   0.,   0.,   0.,   0.,  49., 238., 253., 253., 253., 253.,\n",
       "        253., 253., 253., 253., 251.,  93.,  82.,  82.,  56.,  39.,   0.,\n",
       "          0.,   0.,   0.,   0.,   0.,   0.,   0.,   0.,   0.,   0.,   0.,\n",
       "         18., 219., 253., 253., 253., 253., 253., 198., 182., 247., 241.,\n",
       "          0.,   0.,   0.,   0.,   0.,   0.,   0.,   0.,   0.,   0.,   0.,\n",
       "          0.,   0.,   0.,   0.,   0.,   0.,   0.,  80., 156., 107., 253.,\n",
       "        253., 205.,  11.,   0.,  43., 154.,   0.,   0.,   0.,   0.,   0.,\n",
       "          0.,   0.,   0.,   0.,   0.,   0.,   0.,   0.,   0.,   0.,   0.,\n",
       "          0.,   0.,   0.,  14.,   1., 154., 253.,  90.,   0.,   0.,   0.,\n",
       "          0.,   0.,   0.,   0.,   0.,   0.,   0.,   0.,   0.,   0.,   0.,\n",
       "          0.,   0.,   0.,   0.,   0.,   0.,   0.,   0.,   0.,   0.,   0.,\n",
       "        139., 253., 190.,   2.,   0.,   0.,   0.,   0.,   0.,   0.,   0.,\n",
       "          0.,   0.,   0.,   0.,   0.,   0.,   0.,   0.,   0.,   0.,   0.,\n",
       "          0.,   0.,   0.,   0.,   0.,   0.,  11., 190., 253.,  70.,   0.,\n",
       "          0.,   0.,   0.,   0.,   0.,   0.,   0.,   0.,   0.,   0.,   0.,\n",
       "          0.,   0.,   0.,   0.,   0.,   0.,   0.,   0.,   0.,   0.,   0.,\n",
       "          0.,   0.,  35., 241., 225., 160., 108.,   1.,   0.,   0.,   0.,\n",
       "          0.,   0.,   0.,   0.,   0.,   0.,   0.,   0.,   0.,   0.,   0.,\n",
       "          0.,   0.,   0.,   0.,   0.,   0.,   0.,   0.,   0.,  81., 240.,\n",
       "        253., 253., 119.,  25.,   0.,   0.,   0.,   0.,   0.,   0.,   0.,\n",
       "          0.,   0.,   0.,   0.,   0.,   0.,   0.,   0.,   0.,   0.,   0.,\n",
       "          0.,   0.,   0.,   0.,   0.,  45., 186., 253., 253., 150.,  27.,\n",
       "          0.,   0.,   0.,   0.,   0.,   0.,   0.,   0.,   0.,   0.,   0.,\n",
       "          0.,   0.,   0.,   0.,   0.,   0.,   0.,   0.,   0.,   0.,   0.,\n",
       "          0.,  16.,  93., 252., 253., 187.,   0.,   0.,   0.,   0.,   0.,\n",
       "          0.,   0.,   0.,   0.,   0.,   0.,   0.,   0.,   0.,   0.,   0.,\n",
       "          0.,   0.,   0.,   0.,   0.,   0.,   0.,   0.,   0., 249., 253.,\n",
       "        249.,  64.,   0.,   0.,   0.,   0.,   0.,   0.,   0.,   0.,   0.,\n",
       "          0.,   0.,   0.,   0.,   0.,   0.,   0.,   0.,   0.,   0.,   0.,\n",
       "          0.,  46., 130., 183., 253., 253., 207.,   2.,   0.,   0.,   0.,\n",
       "          0.,   0.,   0.,   0.,   0.,   0.,   0.,   0.,   0.,   0.,   0.,\n",
       "          0.,   0.,   0.,   0.,   0.,  39., 148., 229., 253., 253., 253.,\n",
       "        250., 182.,   0.,   0.,   0.,   0.,   0.,   0.,   0.,   0.,   0.,\n",
       "          0.,   0.,   0.,   0.,   0.,   0.,   0.,   0.,   0.,  24., 114.,\n",
       "        221., 253., 253., 253., 253., 201.,  78.,   0.,   0.,   0.,   0.,\n",
       "          0.,   0.,   0.,   0.,   0.,   0.,   0.,   0.,   0.,   0.,   0.,\n",
       "          0.,   0.,  23.,  66., 213., 253., 253., 253., 253., 198.,  81.,\n",
       "          2.,   0.,   0.,   0.,   0.,   0.,   0.,   0.,   0.,   0.,   0.,\n",
       "          0.,   0.,   0.,   0.,   0.,   0.,  18., 171., 219., 253., 253.,\n",
       "        253., 253., 195.,  80.,   9.,   0.,   0.,   0.,   0.,   0.,   0.,\n",
       "          0.,   0.,   0.,   0.,   0.,   0.,   0.,   0.,   0.,   0.,  55.,\n",
       "        172., 226., 253., 253., 253., 253., 244., 133.,  11.,   0.,   0.,\n",
       "          0.,   0.,   0.,   0.,   0.,   0.,   0.,   0.,   0.,   0.,   0.,\n",
       "          0.,   0.,   0.,   0.,   0., 136., 253., 253., 253., 212., 135.,\n",
       "        132.,  16.,   0.,   0.,   0.,   0.,   0.,   0.,   0.,   0.,   0.,\n",
       "          0.,   0.,   0.,   0.,   0.,   0.,   0.,   0.,   0.,   0.,   0.,\n",
       "          0.,   0.,   0.,   0.,   0.,   0.,   0.,   0.,   0.,   0.,   0.,\n",
       "          0.,   0.,   0.,   0.,   0.,   0.,   0.,   0.,   0.,   0.,   0.,\n",
       "          0.,   0.,   0.,   0.,   0.,   0.,   0.,   0.,   0.,   0.,   0.,\n",
       "          0.,   0.,   0.,   0.,   0.,   0.,   0.,   0.,   0.,   0.,   0.,\n",
       "          0.,   0.,   0.,   0.,   0.,   0.,   0.,   0.,   0.,   0.,   0.,\n",
       "          0.,   0.,   0.,   0.,   0.,   0.,   0.,   0.,   0.,   0.,   0.,\n",
       "          0.,   0.,   0.,   0.,   0.,   0.,   0.,   0.,   0.,   0.,   0.,\n",
       "          0.,   0.,   0.], dtype=float32))"
      ]
     },
     "execution_count": 36,
     "metadata": {},
     "output_type": "execute_result"
    }
   ],
   "source": [
    "(y_train[0], X_train[0])"
   ]
  },
  {
   "cell_type": "code",
   "execution_count": 37,
   "metadata": {},
   "outputs": [],
   "source": [
    "# normalizing inputs from 0-255 to 0-1\n",
    "X_train = X_train / 255\n",
    "X_test = X_test / 255"
   ]
  },
  {
   "cell_type": "code",
   "execution_count": 38,
   "metadata": {},
   "outputs": [],
   "source": [
    "y_train = np.asarray(pd.get_dummies(y_train))\n",
    "\n",
    "y_test = np.asarray(pd.get_dummies(y_test))\n",
    "\n",
    "num_classes = y_test.shape[1]"
   ]
  },
  {
   "cell_type": "code",
   "execution_count": 39,
   "metadata": {},
   "outputs": [],
   "source": [
    "model = Sequential()\n",
    "\n",
    "model.add(Dense(num_pixels, input_dim=num_pixels, kernel_initializer='normal', activation='relu'))\n",
    "\n",
    "model.add(Dense(num_classes, kernel_initializer='normal', activation='softmax'))\n",
    "\n",
    "# Compiling model\n",
    "model.compile(loss='categorical_crossentropy', optimizer='adam', metrics=['accuracy'])"
   ]
  },
  {
   "cell_type": "code",
   "execution_count": 40,
   "metadata": {},
   "outputs": [
    {
     "name": "stdout",
     "output_type": "stream",
     "text": [
      "Epoch 1/10\n",
      "300/300 - 4s - loss: 0.2762 - accuracy: 0.9205 - val_loss: 0.1423 - val_accuracy: 0.9579\n",
      "Epoch 2/10\n",
      "300/300 - 3s - loss: 0.1086 - accuracy: 0.9690 - val_loss: 0.0956 - val_accuracy: 0.9706\n",
      "Epoch 3/10\n",
      "300/300 - 3s - loss: 0.0694 - accuracy: 0.9798 - val_loss: 0.0797 - val_accuracy: 0.9746\n",
      "Epoch 4/10\n",
      "300/300 - 3s - loss: 0.0491 - accuracy: 0.9855 - val_loss: 0.0681 - val_accuracy: 0.9783\n",
      "Epoch 5/10\n",
      "300/300 - 3s - loss: 0.0358 - accuracy: 0.9897 - val_loss: 0.0630 - val_accuracy: 0.9803\n",
      "Epoch 6/10\n",
      "300/300 - 3s - loss: 0.0266 - accuracy: 0.9926 - val_loss: 0.0684 - val_accuracy: 0.9782\n",
      "Epoch 7/10\n",
      "300/300 - 3s - loss: 0.0190 - accuracy: 0.9954 - val_loss: 0.0633 - val_accuracy: 0.9793\n",
      "Epoch 8/10\n",
      "300/300 - 3s - loss: 0.0142 - accuracy: 0.9967 - val_loss: 0.0629 - val_accuracy: 0.9799\n",
      "Epoch 9/10\n",
      "300/300 - 3s - loss: 0.0110 - accuracy: 0.9975 - val_loss: 0.0625 - val_accuracy: 0.9800\n",
      "Epoch 10/10\n",
      "300/300 - 3s - loss: 0.0084 - accuracy: 0.9985 - val_loss: 0.0633 - val_accuracy: 0.9804\n",
      "Baseline Error: 1.96%\n"
     ]
    }
   ],
   "source": [
    "# Attempting to fit the model\n",
    "\n",
    "model.fit(X_train, y_train, validation_data=(X_test, y_test), epochs=10, batch_size=200, verbose=2)\n",
    "\n",
    "# Final evaluation of the model\n",
    "scores = model.evaluate(X_test, y_test, verbose=0)\n",
    "\n",
    "print(\"Baseline Error: %.2f%%\" % (100-scores[1]*100))"
   ]
  },
  {
   "cell_type": "code",
   "execution_count": 41,
   "metadata": {},
   "outputs": [
    {
     "name": "stdout",
     "output_type": "stream",
     "text": [
      "Model: \"sequential_2\"\n",
      "_________________________________________________________________\n",
      "Layer (type)                 Output Shape              Param #   \n",
      "=================================================================\n",
      "dense_5 (Dense)              (None, 784)               615440    \n",
      "_________________________________________________________________\n",
      "dense_6 (Dense)              (None, 10)                7850      \n",
      "=================================================================\n",
      "Total params: 623,290\n",
      "Trainable params: 623,290\n",
      "Non-trainable params: 0\n",
      "_________________________________________________________________\n"
     ]
    }
   ],
   "source": [
    "model.summary()"
   ]
  },
  {
   "cell_type": "code",
   "execution_count": 42,
   "metadata": {},
   "outputs": [
    {
     "name": "stdout",
     "output_type": "stream",
     "text": [
      "Test loss: 0.06327315419912338\n",
      "Test accuracy: 0.980400025844574\n"
     ]
    }
   ],
   "source": [
    "# Model evaluation\n",
    "score = model.evaluate(X_test, y_test, verbose=0)\n",
    "\n",
    "print('Test loss:', score[0])\n",
    "\n",
    "print('Test accuracy:', score[1])"
   ]
  },
  {
   "cell_type": "code",
   "execution_count": 43,
   "metadata": {},
   "outputs": [],
   "source": [
    "from sklearn.metrics import confusion_matrix\n",
    "\n",
    "def plot_confusion_matrix(cm, classes,\n",
    "                          normalize=False,\n",
    "                          title='Confusion matrix',\n",
    "                          cmap=plt.cm.Blues):\n",
    "\n",
    "    plt.imshow(cm, interpolation='nearest', cmap=cmap)\n",
    "\n",
    "    plt.title(title)\n",
    "    \n",
    "    plt.colorbar()\n",
    "    \n",
    "    tick_marks = np.arange(len(classes))\n",
    "    \n",
    "    plt.xticks(tick_marks, classes, rotation=45)\n",
    "    \n",
    "    plt.yticks(tick_marks, classes)\n",
    "\n",
    "    if normalize:\n",
    "        cm = cm.astype('float') / cm.sum(axis=1)[:, np.newaxis]\n",
    "\n",
    "    thresh = cm.max() / 2.\n",
    "    \n",
    "    for i, j in itertools.product(range(cm.shape[0]), range(cm.shape[1])):\n",
    "        \n",
    "        plt.text(j, i, cm[i, j],\n",
    "        \n",
    "                 horizontalalignment=\"center\",\n",
    "                 \n",
    "                 color=\"white\" if cm[i, j] > thresh else \"black\")\n",
    "\n",
    "    plt.tight_layout()\n",
    "\n",
    "    plt.ylabel('True label')\n",
    "    \n",
    "    plt.xlabel('Predicted label')"
   ]
  },
  {
   "cell_type": "code",
   "execution_count": 44,
   "metadata": {},
   "outputs": [
    {
     "data": {
      "image/png": "[encoded data removed]",
      "text/plain": [
       "<Figure size 432x288 with 2 Axes>"
      ]
     },
     "metadata": {
      "needs_background": "light"
     },
     "output_type": "display_data"
    }
   ],
   "source": [
    "# Predict the values from the validation dataset\n",
    "y_pred = model.predict(X_test)\n",
    "\n",
    "# Convert predictions classes to one hot vectors \n",
    "y_pred_classes = np.argmax(y_pred, axis = 1) \n",
    "\n",
    "# Convert validation observations to one hot vectors\n",
    "y_true = np.argmax(y_test, axis = 1) \n",
    "\n",
    "# compute the confusion matrix\n",
    "confusion_mtx = confusion_matrix(y_true, y_pred_classes) \n",
    "\n",
    "# plot the confusion matrix\n",
    "plot_confusion_matrix(confusion_mtx, classes = range(10))"
   ]
  },
  {
   "cell_type": "markdown",
   "metadata": {},
   "source": [
    "<br><p style=\"font-family:Footlight MT Light;text-align:left;font-size:1.2em;font-weight:bold;color:#8E06E3;\">Conclusion<br>\n",
    "In this assignment, we have learnt about the Convolutional Neural Networks and implemented it on Digit Recognizer dataset, to analyze the working of the CNN model. </p>"
   ]
  }
 ],
 "metadata": {
  "colab": {
   "collapsed_sections": [],
   "name": "Assignment8.ipynb",
   "provenance": []
  },
  "kernelspec": {
   "display_name": "Python 3",
   "language": "python",
   "name": "python3"
  },
  "language_info": {
   "codemirror_mode": {
    "name": "ipython",
    "version": 3
   },
   "file_extension": ".py",
   "mimetype": "text/x-python",
   "name": "python",
   "nbconvert_exporter": "python",
   "pygments_lexer": "ipython3",
   "version": "3.9.7"
  }
 },
 "nbformat": 4,
 "nbformat_minor": 1
}
