{
 "cells": [
  {
   "cell_type": "markdown",
   "id": "177b4d85",
   "metadata": {},
   "source": [
    "<h1 style=\"font-family:Patua One;text-align:center;font-size=45px;color:#049AE1;\">Machine Learning Laboratory </h1>\n",
    "<h2 style=\"font-family:Patua One;text-align:center;font-size=45px;color:#049AE1;\">(410302) </h2>\n",
    "<h3 style=\"font-family:Bookman Old Style;text-align:center;font-size=35px;color:#03D1EE;\">BE Sem I Honors in AI/ML </h3>\n",
    "<h4 style=\"font-family:Bookman Old Style;text-align:center;font-size=30px;color:#03D1EE;\">Academic Year: 2022-23 </h4>\n",
    "<h2 style=\"font-family:Farro;text-align:center;font-size=50px;color:#02DA87;\">Lab Assignment No.1  </h2>\n",
    "<h4 style=\"font-family:Bookman Old Style;text-align:right;font-size=30px;color:#A6065B;\">Name - XYZ </h4>\n",
    "<h4 style=\"font-family:Bookman Old Style;text-align:right;font-size=30px;color:#A6065B;\">Roll No. - 12345 </h4>\n",
    "<h4 style=\"font-family:Bookman Old Style;text-align:right;font-size=30px;color:#A6065B;\">Branch - E&TE </h4>\n",
    "<h4 style=\"font-family:Bookman Old Style;text-align:right;font-size=30px;color:#A6065B;\">College - P.I.C.T </h4>\n",
    "<br>"
   ]
  },
  {
   "cell_type": "markdown",
   "id": "1b3908d3",
   "metadata": {},
   "source": [
    "<h2 style=\"font-family:Wellfleet;text-align:left;font-size=35px;color:#EBB203;\">Lab Exercise 1</h2><br>"
   ]
  },
  {
   "cell_type": "markdown",
   "id": "12b282f2",
   "metadata": {},
   "source": [
    "<p style=\"font-family:Footlight MT Light;text-align:left;font-size: 1.2em;font-weight:bold;color:#D90571;\">\n",
    "1. Write a program that asks the user for his name and then welcomes him. \n",
    "<br>The output should look like this: \n",
    "<br>Enter your name: Saksham\n",
    "<br>Hello Saksham \n",
    "</p>"
   ]
  },
  {
   "cell_type": "code",
   "execution_count": 1,
   "id": "69f2ef7d",
   "metadata": {},
   "outputs": [
    {
     "name": "stdout",
     "output_type": "stream",
     "text": [
      "Kindly enter your good name: Abhinav Thakur\n",
      "\n",
      "Hi Abhinav Thakur, Welcome to AI-ML Honors Course!!\n"
     ]
    }
   ],
   "source": [
    "# Solution to Q1\n",
    "\n",
    "name=input(\"Kindly enter your good name: \")\n",
    "\n",
    "print(\"\\nHi \"+name+\", Welcome to AI-ML Honors Course!!\")\n"
   ]
  },
  {
   "cell_type": "markdown",
   "id": "05496c85",
   "metadata": {},
   "source": [
    "<p style=\"font-family:Footlight MT Light;text-align:left;font-size: 1.2em;font-weight:bold;color:#D90571;\">\n",
    "<br>2. Write a program that prompts the user to enter two integers and display the total on the screen.   \n",
    "</p>"
   ]
  },
  {
   "cell_type": "code",
   "execution_count": 2,
   "id": "4b98638c",
   "metadata": {},
   "outputs": [
    {
     "name": "stdout",
     "output_type": "stream",
     "text": [
      "Enter the first Integer number: 10\n",
      "Enter the second Integer number: 10\n",
      "Sum of both integers:  20\n"
     ]
    }
   ],
   "source": [
    "# Solution to Q2\n",
    "\n",
    "a=int(input(\"Enter the first Integer number: \"))\n",
    "\n",
    "b=int(input(\"Enter the second Integer number: \"))\n",
    "\n",
    "print(\"Sum of both integers: \",a+b)"
   ]
  },
  {
   "cell_type": "markdown",
   "id": "3f5cf7e2",
   "metadata": {},
   "source": [
    "<p style=\"font-family:Footlight MT Light;text-align:left;font-size: 1.2em;font-weight:bold;color:#D90571;\">\n",
    "<br>3. Write a program that prompts the user to input a Celsius temperature and outputs the equivalent temperature in Fahrenheit. The formula to convert the temperature is: F = 9/5 C + 32 where F is the Fahrenheit temperature and C is the Celsius temperature.     \n",
    "</p>"
   ]
  },
  {
   "cell_type": "code",
   "execution_count": 23,
   "id": "f438bf0c",
   "metadata": {},
   "outputs": [
    {
     "name": "stdout",
     "output_type": "stream",
     "text": [
      "Enter the temperature value [in degree Celsius]: 36\n",
      "The converted temperature value [in degree Fahrenheit]:  96.8\n"
     ]
    }
   ],
   "source": [
    "# Solution to Q3\n",
    "\n",
    "c=float(input(\"Enter the temperature value [in degree Celsius]: \"))\n",
    "\n",
    "f=9/5*c+32\n",
    "\n",
    "print(\"The converted temperature value [in degree Fahrenheit]: \",f)"
   ]
  },
  {
   "cell_type": "markdown",
   "id": "a3ab7ba9",
   "metadata": {},
   "source": [
    "<p style=\"font-family:Footlight MT Light;text-align:left;font-size: 1.2em;font-weight:bold;color:#D90571;\">\n",
    "<br>4. Write a program which accept principle, rate and time from user and print the simple interest. The formula to calculate simple interest is: simple interest = principle x rate x time / 100.      \n",
    "</p>"
   ]
  },
  {
   "cell_type": "code",
   "execution_count": 2,
   "id": "200ee45d",
   "metadata": {},
   "outputs": [
    {
     "name": "stdout",
     "output_type": "stream",
     "text": [
      "***** Program to calculate Simple Interest *****\n",
      "Enter the Principal amount: 100\n",
      "Enter the Rate of Interest: 10\n",
      "Enter the Time: 2\n",
      "The Simple Interest is:  20.0\n"
     ]
    }
   ],
   "source": [
    "# Solution to Q4\n",
    "\n",
    "print(\"***** Program to calculate Simple Interest *****\")\n",
    "\n",
    "P = int(input(\"Enter the Principal amount: \"))\n",
    "\n",
    "R = int(input(\"Enter the Rate of Interest: \"))\n",
    "\n",
    "T = int(input(\"Enter the Time: \"))\n",
    "\n",
    "print(\"The Simple Interest is: \",P*R*T/100)"
   ]
  },
  {
   "cell_type": "markdown",
   "id": "892423e0",
   "metadata": {},
   "source": [
    "<p style=\"font-family:Footlight MT Light;text-align:left;font-size: 1.2em;font-weight:bold;color:#D90571;\">\n",
    "<br>\n",
    "5. Write a program that accepts seconds from keyboard as integer. Your program should converts seconds in hours, minutes and seconds. Your output should like this :\n",
    "<br>Enter seconds: 13400\n",
    "<br>Hours: 3\n",
    "<br>Minutes: 43\n",
    "<br>Seconds: 20        \n",
    "</p>"
   ]
  },
  {
   "cell_type": "code",
   "execution_count": 24,
   "id": "0ce378d7",
   "metadata": {},
   "outputs": [
    {
     "name": "stdout",
     "output_type": "stream",
     "text": [
      "Enter the time value in seconds: 3600\n",
      "Your entered time is converted as:\n",
      "Hours: 1\n",
      "Minutes: 0\n",
      "Seconds: 0\n"
     ]
    }
   ],
   "source": [
    "# Solution to Q5\n",
    "\n",
    "sec = int(input(\"Enter the time value in seconds: \"))\n",
    "\n",
    "hrs = sec//3600\n",
    "\n",
    "sec = sec-hrs*3600\n",
    "\n",
    "mins = sec//60\n",
    "\n",
    "sec = sec-mins*60\n",
    "\n",
    "print(\"Your entered time is converted as:\\nHours: \"+str(hrs)+\"\\nMinutes: \"+str(mins)+\"\\nSeconds: \"+str(sec))"
   ]
  },
  {
   "cell_type": "markdown",
   "id": "0b5006cb",
   "metadata": {},
   "source": [
    "<p style=\"font-family:Footlight MT Light;text-align:left;font-size: 1.2em;font-weight:bold;color:#D90571;\">\n",
    "<br>\n",
    "6. Write a program that prompts the user to enter number in two variables and swap the contents of the variables.          \n",
    "</p>"
   ]
  },
  {
   "cell_type": "code",
   "execution_count": 3,
   "id": "ad0fe84f",
   "metadata": {},
   "outputs": [
    {
     "name": "stdout",
     "output_type": "stream",
     "text": [
      "Enter the first number: 10\n",
      "Enter the second number: 5\n",
      "Swapped values - \n",
      "First number: 5\n",
      "Second number: 10\n"
     ]
    }
   ],
   "source": [
    "# Solution to Q6\n",
    "\n",
    "a = int(input(\"Enter the first number: \"))\n",
    "\n",
    "b = int(input(\"Enter the second number: \"))\n",
    "\n",
    "# using an extra variable to swap the contents of the variables a,b\n",
    "c = a\n",
    "\n",
    "a = b\n",
    "\n",
    "b = c\n",
    "\n",
    "print(\"Swapped values - \\nFirst number: \"+str(a)+\"\\nSecond number: \"+str(b))\n"
   ]
  },
  {
   "cell_type": "markdown",
   "id": "653cdde7",
   "metadata": {},
   "source": [
    "<p style=\"font-family:Footlight MT Light;text-align:left;font-size: 1.2em;font-weight:bold;color:#D90571;\">\n",
    "<br>\n",
    "7. Write a program that prompts the user to enter number in two variables and swap the contents of the variables. (Do not declare extra variable.)            \n",
    "</p>"
   ]
  },
  {
   "cell_type": "code",
   "execution_count": 4,
   "id": "e4ef901c",
   "metadata": {},
   "outputs": [
    {
     "name": "stdout",
     "output_type": "stream",
     "text": [
      "Enter the first number: 10\n",
      "Enter the second number: 5\n",
      "Swapped values - \n",
      "First number: 5\n",
      "Second number: 10\n"
     ]
    }
   ],
   "source": [
    "# Solution to Q7\n",
    "\n",
    "a=int(input(\"Enter the first number: \"))\n",
    "\n",
    "b=int(input(\"Enter the second number: \"))\n",
    "\n",
    "#without using an extra variable to swap the contents of the variables a,b\n",
    "\n",
    "a,b=b,a\n",
    "\n",
    "print(\"Swapped values - \\nFirst number: \"+str(a)+\"\\nSecond number: \"+str(b))\n"
   ]
  },
  {
   "cell_type": "markdown",
   "id": "dc8d88b9",
   "metadata": {},
   "source": [
    "<p style=\"font-family:Footlight MT Light;text-align:left;font-size: 1.2em;font-weight:bold;color:#D90571;\">\n",
    "<br>\n",
    "8. Write a program that prompts the user to input the radius of a circle and outputs the area and circumference of the circle. The formula is\n",
    "<br>Area = pi x radius2\n",
    "<br>Circumference = 2 x pi x radius    \n",
    "</p>"
   ]
  },
  {
   "cell_type": "code",
   "execution_count": 8,
   "id": "836315d7",
   "metadata": {},
   "outputs": [
    {
     "name": "stdout",
     "output_type": "stream",
     "text": [
      "Enter the radius: 10\n",
      "Circumference=  62.800000000000004\n",
      "Area= 314.0\n"
     ]
    }
   ],
   "source": [
    "# Solution to Q8\n",
    "\n",
    "r=float(input(\"Enter the radius: \"))\n",
    "\n",
    "print(\"Circumference= \",(2*3.14*r))\n",
    "\n",
    "print(\"Area= \"+str(3.14*r*r))"
   ]
  },
  {
   "cell_type": "markdown",
   "id": "de1a20e8",
   "metadata": {},
   "source": [
    "<p style=\"font-family:Footlight MT Light;text-align:left;font-size: 1.2em;font-weight:bold;color:#D90571;\">\n",
    "<br>\n",
    "9. Write a program that prompts the user to input the length and the width of a rectangle and outputs the area and circumference of the rectangle. The formula is\n",
    "<br>Area = Length x Width\n",
    "<br>Circumference = 2 x (Length + Width)    \n",
    "</p>"
   ]
  },
  {
   "cell_type": "code",
   "execution_count": 9,
   "id": "57502f25",
   "metadata": {},
   "outputs": [
    {
     "name": "stdout",
     "output_type": "stream",
     "text": [
      "Enter the length of rectangle: 45\n",
      "Enter the width of rectangle: 25\n",
      "Area:1125\n",
      "Perimeter:140\n"
     ]
    }
   ],
   "source": [
    "# Solution to Q9\n",
    "\n",
    "l=int(input(\"Enter the length of rectangle: \"))\n",
    "\n",
    "w=int(input(\"Enter the width of rectangle: \"))\n",
    "\n",
    "print(\"Area:\"+str(w*l))\n",
    "\n",
    "print(\"Perimeter:\"+str(2*(w+l)))"
   ]
  },
  {
   "cell_type": "markdown",
   "id": "8250ae35",
   "metadata": {},
   "source": [
    "<p style=\"font-family:Footlight MT Light;text-align:left;font-size: 1.2em;font-weight:bold;color:#D90571;\">\n",
    "<br>\n",
    "10. Suppose a, b, and c denote the lengths of the sides of a triangle. Then the area of the triangle can be calculated using the formula of semi-perimeter.\n",
    "<br>Write a program that asks the user to input the length of sides of the triangle and print the area.            \n",
    "</p>\n"
   ]
  },
  {
   "cell_type": "code",
   "execution_count": 10,
   "id": "18885cf7",
   "metadata": {},
   "outputs": [
    {
     "name": "stdout",
     "output_type": "stream",
     "text": [
      "Enter the first side of triangle: 20\n",
      "Enter the second side of triangle: 10\n",
      "Enter the third side of triangle: 15\n",
      "Area: 72.61843774138907\n"
     ]
    }
   ],
   "source": [
    "# Solution to Q10\n",
    "\n",
    "a=float(input(\"Enter the first side of triangle: \"))\n",
    "\n",
    "b=float(input(\"Enter the second side of triangle: \"))\n",
    "\n",
    "c=float(input(\"Enter the third side of triangle: \"))\n",
    "\n",
    "s=((a+b+c)/2)\n",
    "\n",
    "Area_of_triangle = str((s*(s-a)*(s-b)*(s-c))**0.5)\n",
    "\n",
    "print(\"Area: \"+ str(Area_of_triangle))"
   ]
  },
  {
   "cell_type": "markdown",
   "id": "6bb753cc",
   "metadata": {},
   "source": [
    "<p style=\"font-family:Footlight MT Light;text-align:left;font-size: 1.2em;font-weight:bold;color:#D90571;\">\n",
    "<br>\n",
    "11. Write a program which prompts the user to input principle, rate and time and calculate compound interest. The formula is:   <br> CI = P(1+R/100)^T - P          \n",
    "</p>"
   ]
  },
  {
   "cell_type": "code",
   "execution_count": 11,
   "id": "3b516a16",
   "metadata": {},
   "outputs": [
    {
     "name": "stdout",
     "output_type": "stream",
     "text": [
      "Enter the value of Principle: 100\n",
      "Enter the value of Rate of interest: 10\n",
      "Enter the value of Time: 1\n",
      "Compound Interest=10.000000000000014\n"
     ]
    }
   ],
   "source": [
    "# Solution to Q11\n",
    "\n",
    "P = float(input(\"Enter the value of Principle: \"))\n",
    "\n",
    "r = float(input(\"Enter the value of Rate of interest: \"))\n",
    "\n",
    "t = float(input(\"Enter the value of Time: \"))\n",
    "\n",
    "CI = str((P*((1+(r/100)) ** t)) - P)\n",
    "\n",
    "print(\"Compound Interest=\" + str(CI))"
   ]
  },
  {
   "cell_type": "markdown",
   "id": "341095c8",
   "metadata": {},
   "source": [
    "<br><h2 style=\"font-family:Wellfleet;text-align:left;font-size=35px;color:#EBB203;\">Lab Exercise 2</h2><br>"
   ]
  },
  {
   "cell_type": "markdown",
   "id": "1527d9af",
   "metadata": {},
   "source": [
    "<p style=\"font-family:Footlight MT Light;text-align:left;font-size: 1.2em;font-weight:bold;color:#D90571;\">\n",
    "1. Write a function find_max that accepts three numbers as arguments and returns the largest number among three. Write another function main, in main () function accept three numbers from user and call find_max.  \n",
    "</p>"
   ]
  },
  {
   "cell_type": "code",
   "execution_count": 12,
   "id": "393c78a4",
   "metadata": {},
   "outputs": [
    {
     "name": "stdout",
     "output_type": "stream",
     "text": [
      "Enter first number: 50\n",
      "Enter second number 20\n",
      "Enter third number 30\n",
      "Largest number is:  50\n"
     ]
    }
   ],
   "source": [
    "# Solution to Q1\n",
    "\n",
    "def find_max(x, y, z):\n",
    "\n",
    "    if x > y and x > z:\n",
    "        return x\n",
    "    \n",
    "    elif y > z:\n",
    "        return y\n",
    "    \n",
    "    else:\n",
    "        return z\n",
    "\n",
    "\n",
    "def main():\n",
    "\n",
    "    a = int(input(\"Enter first number: \"))\n",
    "    \n",
    "    b = int(input(\"Enter second number \"))\n",
    "    \n",
    "    c = int(input(\"Enter third number \"))\n",
    "\n",
    "    largest = find_max(a, b, c)  # Calling the find_max() function\n",
    "\n",
    "    print(\"Largest number is: \", largest)\n",
    "\n",
    "\n",
    "main()  # Calling the main() function"
   ]
  },
  {
   "cell_type": "markdown",
   "id": "2873985e",
   "metadata": {},
   "source": [
    "<br>\n",
    "<p style=\"font-family:Footlight MT Light;text-align:left;font-size: 1.2em;font-weight:bold;color:#D90571;\">\n",
    "2. Write a function, is_vowel that returns the value true if a given character is a vowel, and otherwise returns false. Write another function main, in main () function accept a string from user and count number of vowels in that string.    \n",
    "</p>"
   ]
  },
  {
   "cell_type": "code",
   "execution_count": 14,
   "id": "979b512a",
   "metadata": {},
   "outputs": [
    {
     "name": "stdout",
     "output_type": "stream",
     "text": [
      "Enter any string: AeioU\n",
      "Number of vowels present in the entered string:  5\n"
     ]
    }
   ],
   "source": [
    "# Solution to Q2\n",
    "\n",
    "def is_vowel(letter):\n",
    "\n",
    "    # condition to if a given character is a vowel\n",
    "    if letter in \"aeiou\":\n",
    "        return True\n",
    "    \n",
    "    else:\n",
    "        return False\n",
    "\n",
    "\n",
    "def main():\n",
    "    count = 0\n",
    "    \n",
    "    string = input(\"Enter any string: \")\n",
    "    \n",
    "    #converting the input string to lowercase\n",
    "    string = string.lower()\n",
    "    \n",
    "    for ch in string:\n",
    "        \n",
    "        if(is_vowel(ch)):\n",
    "            count += 1\n",
    "    \n",
    "    print(\"Number of vowels present in the entered string: \", count)\n",
    "\n",
    "\n",
    "main()"
   ]
  },
  {
   "cell_type": "markdown",
   "id": "6f0ebc76",
   "metadata": {},
   "source": [
    "<br>\n",
    "<p style=\"font-family:Footlight MT Light;text-align:left;font-size: 1.2em;font-weight:bold;color:#D90571;\">\n",
    "3. Write a function named is_prime, which takes an integer as an argument and returns true if the argument is a prime number, or false otherwise. Also, write the main function that displays prime numbers between 1 to 500.    \n",
    "</p>"
   ]
  },
  {
   "cell_type": "code",
   "execution_count": 15,
   "id": "be2e4f47",
   "metadata": {},
   "outputs": [
    {
     "name": "stdout",
     "output_type": "stream",
     "text": [
      "**** List of Prime numbers between 1 to 500 ****\n",
      "2, 3, 5, 7, 11, 13, 17, 19, 23, 29, 31, 37, 41, 43, 47, 53, 59, 61, 67, 71, 73, 79, 83, 89, 97, 101, 103, 107, 109, 113, 127, 131, 137, 139, 149, 151, 157, 163, 167, 173, 179, 181, 191, 193, 197, 199, 211, 223, 227, 229, 233, 239, 241, 251, 257, 263, 269, 271, 277, 281, 283, 293, 307, 311, 313, 317, 331, 337, 347, 349, 353, 359, 367, 373, 379, 383, 389, 397, 401, 409, 419, 421, 431, 433, 439, 443, 449, 457, 461, 463, 467, 479, 487, 491, 499"
     ]
    }
   ],
   "source": [
    "# Solution to Q3\n",
    "def is_prime(number):\n",
    "\n",
    "    for i in range(2, number):\n",
    "        \n",
    "        if number % i == 0:\n",
    "            return False\n",
    "    \n",
    "    return True\n",
    "\n",
    "\n",
    "\n",
    "def main():\n",
    "    \n",
    "    count = 0\n",
    "    \n",
    "    print(\"**** List of Prime numbers between 1 to 500 ****\")\n",
    "    \n",
    "    for Number in range(2, 501):\n",
    "        \n",
    "        count += 1\n",
    "        \n",
    "        if is_prime(Number):\n",
    "            \n",
    "            if count != 1:\n",
    "                \n",
    "                print(\", \", end=\"\")\n",
    "            \n",
    "            print(Number, end=\"\")\n",
    "            \n",
    "main()"
   ]
  },
  {
   "cell_type": "markdown",
   "id": "0c18f725",
   "metadata": {},
   "source": [
    "<br>\n",
    "<p style=\"font-family:Footlight MT Light;text-align:left;font-size: 1.2em;font-weight:bold;color:#D90571;\">\n",
    "4. Write a function in python to find the sum of the cube of elements in a list. The list is received as an argument to the function, in turn, the function must return the sum. Write the main function which invokes the above function.    \n",
    "</p>"
   ]
  },
  {
   "cell_type": "code",
   "execution_count": 16,
   "id": "0f86da86",
   "metadata": {},
   "outputs": [
    {
     "name": "stdout",
     "output_type": "stream",
     "text": [
      "Enter the list size: 3\n",
      "Enter Element  1 : 1\n",
      "Enter Element  2 : 2\n",
      "Enter Element  3 : 3\n",
      "The sum of cubes of all numbers present in the list:  36\n"
     ]
    }
   ],
   "source": [
    "# Solution to Q4\n",
    "def Function_for_Sum_Of_Cubes(List_of_numbers):\n",
    "\n",
    "    Sum_of_Cubes = 0\n",
    "    \n",
    "    for element in List_of_numbers:\n",
    "        \n",
    "        Sum_of_Cubes += (element**3)\n",
    "    \n",
    "    return Sum_of_Cubes\n",
    "\n",
    "\n",
    "def main():\n",
    "    \n",
    "    number_list = []\n",
    "    N = int(input(\"Enter the list size: \"))\n",
    "    \n",
    "    for i in range(0, N):\n",
    "        \n",
    "        print(\"Enter Element \", i+1 ,\": \",end=\"\" )\n",
    "        \n",
    "        item = int(input())\n",
    "        \n",
    "        number_list.append(item)\n",
    "    \n",
    "    Ans = Function_for_Sum_Of_Cubes(number_list)\n",
    "    \n",
    "    print(\"The sum of cubes of all numbers present in the list: \", Ans)\n",
    "\n",
    "\n",
    "main()"
   ]
  },
  {
   "cell_type": "markdown",
   "id": "38bac3b3",
   "metadata": {},
   "source": [
    "<br>\n",
    "<p style=\"font-family:Footlight MT Light;text-align:left;font-size: 1.2em;font-weight:bold;color:#D90571;\">\n",
    "5. Write the definition of a function zero_ending(scores) to add all those values in the list of scores, which are ending with zero and display the sum.\n",
    "<br>For example: If the scores contain [200, 456, 300, 100, 234, 678] The sum should be displayed as 600.  \n",
    "</p>"
   ]
  },
  {
   "cell_type": "code",
   "execution_count": 17,
   "id": "71d7402b",
   "metadata": {},
   "outputs": [
    {
     "name": "stdout",
     "output_type": "stream",
     "text": [
      "Sum of all numbers ending with '0':  600\n"
     ]
    }
   ],
   "source": [
    "# Solution to Q5\n",
    "\n",
    "def ZeroEnding (SCORES) :\n",
    "    \n",
    "    Sum_of_Zero_Ending_Numbers = 0\n",
    "\n",
    "    for i in SCORES :\n",
    "        \n",
    "        if i % 10 == 0:\n",
    "            \n",
    "            Sum_of_Zero_Ending_Numbers += i\n",
    "    \n",
    "    print (\"Sum of all numbers ending with \\'0\\': \", Sum_of_Zero_Ending_Numbers)\n",
    "\n",
    "#calling the function ZeroEnding() here    \n",
    "ZeroEnding([200, 456, 300, 100, 234, 678])\n"
   ]
  },
  {
   "cell_type": "markdown",
   "id": "828b65aa",
   "metadata": {},
   "source": [
    "<br>\n",
    "<p style=\"font-family:Footlight MT Light;text-align:left;font-size: 1.2em;font-weight:bold;color:#D90571;\">\n",
    "6. Write a definition of a method count_now(places) to find and display those place names, in which there are more than 5 characters.\n",
    "<br>For example:\n",
    "<br>If the list places contain\n",
    "<br>[\"DELHI\",\"LONDON\",\"PARIS\",\"NEW YORK\",\"DUBAI\"]\n",
    "<br>The following should get displayed:\n",
    "<br>LONDON\n",
    "<br>NEW YORK  \n",
    "</p>"
   ]
  },
  {
   "cell_type": "code",
   "execution_count": 18,
   "id": "204b0e2c",
   "metadata": {},
   "outputs": [
    {
     "name": "stdout",
     "output_type": "stream",
     "text": [
      "***** Names of places with more than 5 characters *****\n",
      "LONDON\n",
      "NEW YORK\n"
     ]
    }
   ],
   "source": [
    "# Solution to Q6\n",
    "def count_now_func(PLACES):\n",
    "    print(\"***** Names of places with more than 5 characters *****\")\n",
    "    for place in PLACES:\n",
    "        if len(place) > 5:\n",
    "            print(place)\n",
    "\n",
    "#calling the function count_now_func() here \n",
    "count_now_func([\"DELHI\", \"LONDON\", \"PARIS\", \"NEW YORK\", \"DUBAI\"])\n"
   ]
  },
  {
   "cell_type": "markdown",
   "id": "df6ff56a",
   "metadata": {},
   "source": [
    "<br>\n",
    "<p style=\"font-family:Footlight MT Light;text-align:left;font-size: 1.2em;font-weight:bold;color:#D90571;\">\n",
    "7. Write a method in python to display the elements of list thrice if it is a number and display the element terminated with ‘#’ if it is not a number.\n",
    "<br>For example, if the content of list is as follows:\n",
    "<br>ThisList= [‘41’, ‘DROND’, ‘GIRIRAJ’, ‘13’, ‘ZARA’]\n",
    "<br>The output should be\n",
    "<br>414141\n",
    "<br>DROND#\n",
    "<br>GIRIRAJ#\n",
    "<br>131313\n",
    "<br>ZARA#  \n",
    "</p>"
   ]
  },
  {
   "cell_type": "code",
   "execution_count": 19,
   "id": "ab9b5a31",
   "metadata": {},
   "outputs": [
    {
     "name": "stdout",
     "output_type": "stream",
     "text": [
      "414141\n",
      "DROND#\n",
      "GIRIRAJ#\n",
      "131313\n",
      "ZARA#\n"
     ]
    }
   ],
   "source": [
    "# Solution to Q7\n",
    "\n",
    "def Check_Number_Or_String(Input_List):\n",
    "    \n",
    "    for item in Input_List:\n",
    "        \n",
    "        if(item.isdigit()):\n",
    "            \n",
    "            print(item+item+item)\n",
    "        \n",
    "        else:\n",
    "            \n",
    "            print(item+\"#\")\n",
    "\n",
    "#calling the function Check_Number_Or_String() here\n",
    "Check_Number_Or_String([\"41\", \"DROND\", \"GIRIRAJ\", \"13\", \"ZARA\"])\n"
   ]
  },
  {
   "cell_type": "markdown",
   "id": "4e087614",
   "metadata": {},
   "source": [
    "<br>\n",
    "<p style=\"font-family:Footlight MT Light;text-align:left;font-size: 1.2em;font-weight:bold;color:#D90571;\">\n",
    "8. For a given list of values in descending order, write a method in python to search for a value with the help of Binary Search method. The method should return position of the value and should return -1 if the value not present in the list.  \n",
    "</p>"
   ]
  },
  {
   "cell_type": "code",
   "execution_count": 20,
   "id": "dc46720b",
   "metadata": {},
   "outputs": [
    {
     "name": "stdout",
     "output_type": "stream",
     "text": [
      "\tProgram to implement \"Binary Search\"\n",
      "Enter the list size: 5\n",
      "Enter elements of array in descending order!!\n",
      "Enter Element  1 : 6\n",
      "Enter Element  2 : 4\n",
      "Enter Element  3 : 3\n",
      "Enter Element  4 : 2\n",
      "Enter Element  5 : 1\n",
      "Enter the element to be searched: 6\n",
      "Element is present at position: 1\n"
     ]
    }
   ],
   "source": [
    "# Solution to Q8\n",
    "\n",
    "def binary_search(L, data):\n",
    "    first = 0\n",
    "    last = len(L)-1\n",
    "    while(first <= last):\n",
    "        mid = (first+last)//2\n",
    "        if L[mid] == data:\n",
    "            return mid\n",
    "        elif L[mid] > data:\n",
    "            first = mid+1\n",
    "        else:\n",
    "            last = mid-1\n",
    "    return -1\n",
    "\n",
    "\n",
    "print(\"\\tProgram to implement \\\"Binary Search\\\"\")\n",
    "\n",
    "number_list = []\n",
    "N = int(input(\"Enter the list size: \"))\n",
    "print(\"Enter elements of array in descending order!!\")\n",
    "for i in range(0, N):\n",
    "    print(\"Enter Element \", i+1, \": \", end=\"\")\n",
    "    item = int(input())\n",
    "    number_list.append(item)\n",
    "\n",
    "X = int(input(\"Enter the element to be searched: \"))\n",
    "\n",
    "index = binary_search(number_list, X)\n",
    "\n",
    "if index != -1:\n",
    "    print(\"Element is present at position: \" + str(index+1))\n",
    "else:\n",
    "    print(\"Element is not present!!\")\n"
   ]
  },
  {
   "cell_type": "markdown",
   "id": "b248be3a",
   "metadata": {},
   "source": [
    "<br>\n",
    "<p style=\"font-family:Footlight MT Light;text-align:left;font-size: 1.2em;font-weight:bold;color:#D90571;\">\n",
    "9. Write a function half_and_half that takes in a list and change the list such that the elements of the second half are now in the first half.\n",
    "<br>For example, if the size of list is even and content of list is as follows :\n",
    "<br>my_liist = [10,20,30,40,50,60]\n",
    "<br>The output should be\n",
    "<br>[40,50,60,10,20,30]\n",
    "<br>if the size of list is odd and content of list is as follows :\n",
    "<br>my_liist = [10,20,30,40,50,60,70]\n",
    "<br>The output should be\n",
    "<br>[50,60,70,40,10,20,30]  \n",
    "</p>"
   ]
  },
  {
   "cell_type": "code",
   "execution_count": 21,
   "id": "06c04251",
   "metadata": {},
   "outputs": [
    {
     "name": "stdout",
     "output_type": "stream",
     "text": [
      "**** Output of list with Even number of elements ****\n",
      "[40, 50, 60, 10, 20, 30]\n",
      "**** Output of list with Odd number of elements ****\n",
      "[10, 20, 30, 40, 50, 60, 70]\n"
     ]
    }
   ],
   "source": [
    "# Solution to Q9\n",
    "\n",
    "def half_and_half(My_List):\n",
    "\n",
    "    Len = len(My_List)\n",
    "\n",
    "    Mid_Position = Len//2\n",
    "\n",
    "    if Len%2 == 0:\n",
    "        New_list = My_List[Mid_Position:]+My_List[0:Mid_Position]\n",
    "    else:\n",
    "        New_list = My_List[Mid_Position+1:]+My_List[Mid_Position:Mid_Position+1]+My_List[0:Mid_Position]\n",
    "    print(New_list)\n",
    "\n",
    "\n",
    "My_List1 = [10, 20, 30, 40, 50, 60]\n",
    "\n",
    "My_List2 = [50, 60, 70, 40, 10, 20, 30]\n",
    "\n",
    "print(\"**** Output of list with Even number of elements ****\")\n",
    "\n",
    "half_and_half(My_List1)\n",
    "\n",
    "print(\"**** Output of list with Odd number of elements ****\")\n",
    "\n",
    "half_and_half(My_List2)\n",
    "\n"
   ]
  },
  {
   "cell_type": "markdown",
   "id": "bb2763e2",
   "metadata": {},
   "source": [
    "<br>\n",
    "<p style=\"font-family:Footlight MT Light;text-align:left;font-size: 1.2em;font-weight:bold;color:#D90571;\">\n",
    "10. Write a function that accepts a dictionary as an argument. If the dictionary contains replicate values, return an empty dictionary, otherwise, return a new dictionary whose values are now the keys and whose keys are the values.  \n",
    "</p>"
   ]
  },
  {
   "cell_type": "code",
   "execution_count": 22,
   "id": "8f5135d9",
   "metadata": {},
   "outputs": [
    {
     "name": "stdout",
     "output_type": "stream",
     "text": [
      "**** Output of dictionary with Replicate values ****\n",
      "Original Dictionary before calling function:  {'a': 10, 'b': 20, 'c': 20}\n",
      "New Dictionary after calling function:  {}\n",
      "**** Output of dictionary with Distinct values ****\n",
      "Original Dictionary before calling function:  {'a': 10, 'b': 20, 'c': 30}\n",
      "New Dictionary after calling function:  {10: 'a', 20: 'b', 30: 'c'}\n"
     ]
    }
   ],
   "source": [
    "# Solution to Q10\n",
    "\n",
    "\n",
    "def Interchange_Dictionary_Key_Value(Sample_Dictionary):\n",
    "    L = list(Sample_Dictionary.values())\n",
    "    for value in L:\n",
    "        if L.count(value) > 1:\n",
    "            return dict()\n",
    "    new_dict = {}\n",
    "    for k, v in Sample_Dictionary.items():\n",
    "        new_dict[v] = k\n",
    "    return new_dict\n",
    "\n",
    "\n",
    "print(\"**** Output of dictionary with Replicate values ****\")\n",
    "Demo_Dic = {'a': 10, 'b': 20, 'c': 20}\n",
    "print(\"Original Dictionary before calling function: \", Demo_Dic)\n",
    "New_Dic = Interchange_Dictionary_Key_Value(Demo_Dic)\n",
    "print(\"New Dictionary after calling function: \", New_Dic)\n",
    "\n",
    "print(\"**** Output of dictionary with Distinct values ****\")\n",
    "Demo_Dic = {'a': 10, 'b': 20, 'c': 30}\n",
    "print(\"Original Dictionary before calling function: \", Demo_Dic)\n",
    "New_Dic = Interchange_Dictionary_Key_Value(Demo_Dic)\n",
    "print(\"New Dictionary after calling function: \", New_Dic)\n",
    "\n"
   ]
  },
  {
   "cell_type": "markdown",
   "id": "80f7f879",
   "metadata": {},
   "source": [
    "<br><h2 style=\"font-family:Wellfleet;text-align:left;font-size=35px;color:#EBB203;\">Lab Exercise 3</h2><br>"
   ]
  },
  {
   "cell_type": "markdown",
   "id": "e4d26114",
   "metadata": {},
   "source": [
    "<p style=\"font-family:Footlight MT Light;text-align:left;font-size: 1.2em;font-weight:bold;color:#D90571;\">\n",
    "1.Insert the missing part of the code below to output \"Hello World\".<br>\n",
    "______(\"Hello World\")<br>\n",
    "</p>\n"
   ]
  },
  {
   "cell_type": "code",
   "execution_count": 25,
   "id": "3ab5b119",
   "metadata": {},
   "outputs": [
    {
     "name": "stdout",
     "output_type": "stream",
     "text": [
      "Hello World\n"
     ]
    }
   ],
   "source": [
    "# Solution to Q1\n",
    "\n",
    "print(\"Hello World\")\n"
   ]
  },
  {
   "cell_type": "markdown",
   "id": "2ae53eb4",
   "metadata": {},
   "source": [
    "<p style=\"font-family:Footlight MT Light;text-align:left;font-size: 1.2em;font-weight:bold;color:#D90571;\">\n",
    "2.Find the mistake of programme<br>\n",
    "if 5 > 2:<br>\n",
    "print(\"Five is greater than two!\")<br>\n",
    "</p>\n"
   ]
  },
  {
   "cell_type": "code",
   "execution_count": 26,
   "id": "cd9630ee",
   "metadata": {},
   "outputs": [
    {
     "name": "stdout",
     "output_type": "stream",
     "text": [
      "Five is greater than two!\n"
     ]
    }
   ],
   "source": [
    "# Solution to Q2\n",
    "\n",
    "if 5 > 2:\n",
    "  print(\"Five is greater than two!\")\n",
    "\n",
    "# Incorrect indentation gives the error."
   ]
  },
  {
   "cell_type": "markdown",
   "id": "e4dcde74",
   "metadata": {},
   "source": [
    "<p style=\"font-family:Footlight MT Light;text-align:left;font-size: 1.2em;font-weight:bold;color:#D90571;\">\n",
    "3.Comments in Python are written with a special character, which one?<br>\n",
    "___This is a comment.<br>\n",
    "    \n",
    "</p>\n"
   ]
  },
  {
   "cell_type": "code",
   "execution_count": 27,
   "id": "34fbc35b",
   "metadata": {},
   "outputs": [],
   "source": [
    "# Solution to Q3('#' is the special character)\n",
    "\n",
    "#This is a comment."
   ]
  },
  {
   "cell_type": "markdown",
   "id": "4337bbc3",
   "metadata": {},
   "source": [
    "<p style=\"font-family:Footlight MT Light;text-align:left;font-size: 1.2em;font-weight:bold;color:#D90571;\">\n",
    "4.Use a multiline string to make the a multi line comment:<br>\n",
    "___This is a comment<br>\n",
    "written in<br>\n",
    "more that just one line___<br>\n",
    "</p>\n"
   ]
  },
  {
   "cell_type": "code",
   "execution_count": 28,
   "id": "27e52a0d",
   "metadata": {},
   "outputs": [
    {
     "data": {
      "text/plain": [
       "'\\nThis is a comment\\nwritten in\\nmore that just one line\\n'"
      ]
     },
     "execution_count": 28,
     "metadata": {},
     "output_type": "execute_result"
    }
   ],
   "source": [
    "# Solution to Q4\n",
    "\n",
    "\"\"\"\n",
    "This is a comment\n",
    "written in\n",
    "more that just one line\n",
    "\"\"\""
   ]
  },
  {
   "cell_type": "markdown",
   "id": "7ac77988",
   "metadata": {},
   "source": [
    "<p style=\"font-family:Footlight MT Light;text-align:left;font-size: 1.2em;font-weight:bold;color:#D90571;\">\n",
    "5.Create a variable named car and assign the value Volvo to it.<br></p>\n"
   ]
  },
  {
   "cell_type": "code",
   "execution_count": 29,
   "id": "2f6119fc",
   "metadata": {},
   "outputs": [],
   "source": [
    "# Solution to Q5\n",
    "\n",
    "car = \"Volvo\""
   ]
  },
  {
   "cell_type": "markdown",
   "id": "b2943660",
   "metadata": {},
   "source": [
    "<p style=\"font-family:Footlight MT Light;text-align:left;font-size: 1.2em;font-weight:bold;color:#D90571;\">\n",
    "6.Create a variable named x and assign the value 50 to it.<br></p>\n"
   ]
  },
  {
   "cell_type": "code",
   "execution_count": 30,
   "id": "757addb5",
   "metadata": {},
   "outputs": [],
   "source": [
    "# Solution to Q6\n",
    "\n",
    "x = 50"
   ]
  },
  {
   "cell_type": "markdown",
   "id": "05f53fa1",
   "metadata": {},
   "source": [
    "<p style=\"font-family:Footlight MT Light;text-align:left;font-size: 1.2em;font-weight:bold;color:#D90571;\">\n",
    "7.Display the sum of 5 + 10, using two variables: x and y.<br></p>\n"
   ]
  },
  {
   "cell_type": "code",
   "execution_count": 31,
   "id": "53e2fecd",
   "metadata": {},
   "outputs": [
    {
     "name": "stdout",
     "output_type": "stream",
     "text": [
      "15\n"
     ]
    }
   ],
   "source": [
    "# Solution to Q7\n",
    "\n",
    "x = 5\n",
    "y = 10\n",
    "print(x+y)"
   ]
  },
  {
   "cell_type": "markdown",
   "id": "7bd67730",
   "metadata": {},
   "source": [
    "<p style=\"font-family:Footlight MT Light;text-align:left;font-size: 1.2em;font-weight:bold;color:#D90571;\">\n",
    "8.Create a variable called z, assign x + y to it, and display the result.<br></p>\n"
   ]
  },
  {
   "cell_type": "code",
   "execution_count": 32,
   "id": "ef1ee89d",
   "metadata": {},
   "outputs": [
    {
     "name": "stdout",
     "output_type": "stream",
     "text": [
      "15\n"
     ]
    }
   ],
   "source": [
    "# Solution to Q8\n",
    "\n",
    "z = x + y\n",
    "print(z)"
   ]
  },
  {
   "cell_type": "markdown",
   "id": "987dca23",
   "metadata": {},
   "source": [
    "<p style=\"font-family:Footlight MT Light;text-align:left;font-size: 1.2em;font-weight:bold;color:#D90571;\">\n",
    "9.Remove the illegal characters in the variable name:<br>\n",
    "2my-first_name = \"John\" </p>\n"
   ]
  },
  {
   "cell_type": "code",
   "execution_count": 33,
   "id": "7ad0d206",
   "metadata": {},
   "outputs": [],
   "source": [
    "# Solution to Q9\n",
    "\n",
    "myfirst_name = \"John\""
   ]
  },
  {
   "cell_type": "markdown",
   "id": "0f761d01",
   "metadata": {},
   "source": [
    "<p style=\"font-family:Footlight MT Light;text-align:left;font-size: 1.2em;font-weight:bold;color:#D90571;\">\n",
    "10.Insert the correct syntax to assign the same value to all three variables in one codeline.<br>\n",
    "x __ y __ z _ \"Orange\"<br>\n",
    "</p>\n"
   ]
  },
  {
   "cell_type": "code",
   "execution_count": 34,
   "id": "88dc3e8d",
   "metadata": {},
   "outputs": [],
   "source": [
    "# Solution to Q10\n",
    "\n",
    "x = y = z = \"Orange\""
   ]
  },
  {
   "cell_type": "markdown",
   "id": "d9954d28",
   "metadata": {},
   "source": [
    "<p style=\"font-family:Footlight MT Light;text-align:left;font-size: 1.2em;font-weight:bold;color:#D90571;\">\n",
    "11.Question : Given a two integer numbers return their product and if the product is greater than 1000,<br> \n",
    "then return their sum<br><br>\n",
    "Given:<br>\n",
    "number1 = 20<br>\n",
    "number2 = 30<br><br>\n",
    "Expected Output:<br>\n",
    "The result is 600<br><br>\n",
    "Given:<br>\n",
    "number1 = 40<br>\n",
    "number2 = 30<br><br>\n",
    "Expected Output:<br>\n",
    "The result is 70\n",
    "<br>\n",
    "</p>\n"
   ]
  },
  {
   "cell_type": "code",
   "execution_count": 35,
   "id": "caff69b9",
   "metadata": {},
   "outputs": [
    {
     "data": {
      "text/plain": [
       "600"
      ]
     },
     "execution_count": 35,
     "metadata": {},
     "output_type": "execute_result"
    }
   ],
   "source": [
    "# Solution to Q11\n",
    "\n",
    "def Product_Or_Sum(num1,num2):\n",
    "  product = num1*num2\n",
    "  if product > 1000:\n",
    "    return num1 + num2\n",
    "  else:\n",
    "    return product\n",
    "\n",
    "Product_Or_Sum(20,30)"
   ]
  },
  {
   "cell_type": "markdown",
   "id": "cdf99ff1",
   "metadata": {},
   "source": [
    "<p style=\"font-family:Footlight MT Light;text-align:left;font-size: 1.2em;font-weight:bold;color:#D90571;\">\n",
    "12. Reverse the following tuple<br>\n",
    "aTuple = (10, 20, 30, 40, 50)<br><br>\n",
    "Expected output:<br>\n",
    "(50, 40, 30, 20, 10)\n",
    "<br>\n",
    "</p>\n"
   ]
  },
  {
   "cell_type": "code",
   "execution_count": 36,
   "id": "b71c7ba1",
   "metadata": {},
   "outputs": [
    {
     "name": "stdout",
     "output_type": "stream",
     "text": [
      "(50, 40, 30, 20, 10)\n"
     ]
    }
   ],
   "source": [
    "# Solution to Q12\n",
    "aTuple = (10, 20, 30, 40, 50)\n",
    "\n",
    "print(aTuple[::-1])\n"
   ]
  },
  {
   "cell_type": "markdown",
   "id": "882e55c9",
   "metadata": {},
   "source": [
    "<p style=\"font-family:Footlight MT Light;text-align:left;font-size: 1.2em;font-weight:bold;color:#D90571;\">\n",
    "13. Access value 20 from the following tuple<br>\n",
    "aTuple = (\"Orange\", [10, 20, 30], (5, 15, 25))<br><br>\n",
    "Expected output:<br>\n",
    "20<br>\n",
    "<br>\n",
    "</p>\n"
   ]
  },
  {
   "cell_type": "code",
   "execution_count": 37,
   "id": "6064840b",
   "metadata": {},
   "outputs": [
    {
     "name": "stdout",
     "output_type": "stream",
     "text": [
      "20\n"
     ]
    }
   ],
   "source": [
    "# Solution to Q13\n",
    "\n",
    "aTuple = (\"Orange\", [10, 20, 30], (5, 15, 25))\n",
    "\n",
    "print(aTuple[1][1])"
   ]
  },
  {
   "cell_type": "markdown",
   "id": "bf76e92b",
   "metadata": {},
   "source": [
    "<p style=\"font-family:Footlight MT Light;text-align:left;font-size: 1.2em;font-weight:bold;color:#D90571;\">\n",
    "14. Given 2 strings, s1, and s2 return a new string made of the first, middle and last char each input string.<br>\n",
    "Given:<br>\n",
    "s1 = \"America\"<br>\n",
    "s2 = \"Japan\"<br><br>\n",
    "Expected Output:<br>\n",
    "AJrpan<br>\n",
    "<br>\n",
    "</p>\n"
   ]
  },
  {
   "cell_type": "code",
   "execution_count": 38,
   "id": "568a1492",
   "metadata": {},
   "outputs": [
    {
     "data": {
      "text/plain": [
       "'AJrpan'"
      ]
     },
     "execution_count": 38,
     "metadata": {},
     "output_type": "execute_result"
    }
   ],
   "source": [
    "# Solution to Q14\n",
    "\n",
    "s1 = \"America\"\n",
    "s2 = \"Japan\"\n",
    "def String_Conversion(str1,str2):\n",
    "    l1 = int(len(str1)/2)\n",
    "    l2 = int(len(str2)/2)    \n",
    "    Result = str1[0]+str2[0] +str1[l1]+ str2[l2]+str1[-1]+str2[-1]\n",
    "    return Result\n",
    "String_Conversion(s1,s2)"
   ]
  },
  {
   "cell_type": "markdown",
   "id": "c75cd260",
   "metadata": {},
   "source": [
    "<p style=\"font-family:Footlight MT Light;text-align:left;font-size: 1.2em;font-weight:bold;color:#D90571;\">\n",
    "15. Given a Python list you should be able to display Python list in the following order<br>\n",
    "aLsit = [100, 200, 300, 400, 500]<br><br>\n",
    "Expected output:<br>\n",
    "[500, 400, 300, 200, 100]<br>\n",
    "</p>\n"
   ]
  },
  {
   "cell_type": "code",
   "execution_count": 39,
   "id": "ff957243",
   "metadata": {},
   "outputs": [
    {
     "name": "stdout",
     "output_type": "stream",
     "text": [
      "[500, 400, 300, 200, 100]\n"
     ]
    }
   ],
   "source": [
    "# Solution to Q15\n",
    "\n",
    "aLsit = [100, 200, 300, 400, 500]\n",
    "\n",
    "print(aLsit[::-1])"
   ]
  },
  {
   "cell_type": "markdown",
   "id": "5589d0a7",
   "metadata": {},
   "source": [
    "<p style=\"font-family:Footlight MT Light;text-align:left;font-size: 1.2em;font-weight:bold;color:#D90571;\">\n",
    "16. Concatenate two lists index-wise<br>\n",
    "list1 = [\"M\", \"na\", \"i\", \"Ke\"] <br>\n",
    "list2 = [\"y\", \"me\", \"s\", \"lly\"]<br><br>\n",
    "Expected output:<br>\n",
    "['My', 'name', 'is', 'Kelly']<br>\n",
    "</p>\n"
   ]
  },
  {
   "cell_type": "code",
   "execution_count": 40,
   "id": "a3076a92",
   "metadata": {},
   "outputs": [
    {
     "name": "stdout",
     "output_type": "stream",
     "text": [
      "['My', 'name', 'is', 'Kelly']\n"
     ]
    }
   ],
   "source": [
    "# Solution to Q16\n",
    "\n",
    "\n",
    "list1 = [\"M\", \"na\", \"i\", \"Ke\"] \n",
    "list2 = [\"y\", \"me\", \"s\", \"lly\"]\n",
    "\n",
    "list3 = []\n",
    "for i in range(len(list1)):\n",
    "  list3.append(list1[i] + list2[i])\n",
    "\n",
    "print(list3)"
   ]
  },
  {
   "cell_type": "markdown",
   "id": "b8e5b403",
   "metadata": {},
   "source": [
    "<p style=\"font-family:Footlight MT Light;text-align:left;font-size: 1.2em;font-weight:bold;color:#D90571;\">\n",
    "17. Given a two Python list. Iterate both lists simultaneously such that list1 should display item in original order and list2 in reverse order<br>\n",
    "list1 = [10, 20, 30, 40]<br>\n",
    "list2 = [100, 200, 300, 400]<br><br>\n",
    "Expected output:<br>\n",
    "10 400<br>\n",
    "20 300<br>\n",
    "30 200<br>\n",
    "40 100<br>\n",
    "</p>\n"
   ]
  },
  {
   "cell_type": "code",
   "execution_count": 41,
   "id": "78f0d945",
   "metadata": {},
   "outputs": [
    {
     "name": "stdout",
     "output_type": "stream",
     "text": [
      "10 400\n",
      "20 300\n",
      "30 200\n",
      "40 100\n"
     ]
    }
   ],
   "source": [
    "# Solution to Q17\n",
    "\n",
    "list1 = [10, 20, 30, 40]\n",
    "list2 = [100, 200, 300, 400]\n",
    "\n",
    "for x,y in zip(list1,list2[::-1]):\n",
    "  print(str(x) + \" \" + str(y))"
   ]
  },
  {
   "cell_type": "markdown",
   "id": "9a2aed0c",
   "metadata": {},
   "source": [
    "<p style=\"font-family:Footlight MT Light;text-align:left;font-size: 1.2em;font-weight:bold;color:#D90571;\">\n",
    "18.  Remove empty strings from the list of strings<br>\n",
    "list1 = [\"Mike\", \"\", \"Emma\", \"Kelly\", \"\", \"Brad\"]<br><br>\n",
    "Expected output:<br>\n",
    "[\"Mike\", \"Emma\", \"Kelly\", \"Brad\"]<br>\n",
    "</p>\n"
   ]
  },
  {
   "cell_type": "code",
   "execution_count": 45,
   "id": "3c45d4ee",
   "metadata": {},
   "outputs": [
    {
     "name": "stdout",
     "output_type": "stream",
     "text": [
      "['Mike', 'Emma', 'Kelly', 'Brad']\n"
     ]
    }
   ],
   "source": [
    "# Solution to Q18\n",
    "\n",
    "\n",
    "\n",
    "list1 = [\"Mike\", \"\", \"Emma\", \"Kelly\", \"\", \"Brad\"]\n",
    "\n",
    "\n",
    "while(\"\" in list1) :\n",
    "    list1.remove(\"\")\n",
    "\n",
    "print(list1)"
   ]
  },
  {
   "cell_type": "markdown",
   "id": "b144b360",
   "metadata": {},
   "source": [
    "<p style=\"font-family:Footlight MT Light;text-align:left;font-size: 1.2em;font-weight:bold;color:#D90571;\">\n",
    "19. Write a Python program to display output in given format\n",
    "<br>\n",
    "Twinkle, twinkle, little star,<br>\n",
    "&emsp;&emsp;&emsp;&ensp;How I wonder what you are!<br>\n",
    "&emsp;&emsp;&emsp;&emsp;&emsp;&emsp;&emsp;&ensp;Up above the world so high,<br>\n",
    "&emsp;&emsp;&emsp;&emsp;&emsp;&emsp;&emsp;&ensp;Like a diamond in the sky.<br>\n",
    "Twinkle, twinkle, little star,<br>\n",
    "&emsp;&emsp;&emsp;&ensp;How I wonder what you are!<br>\n",
    "</p>\n"
   ]
  },
  {
   "cell_type": "code",
   "execution_count": 43,
   "id": "ef8266e0",
   "metadata": {},
   "outputs": [
    {
     "name": "stdout",
     "output_type": "stream",
     "text": [
      "Twinkle, twinkle, little star,\n",
      "\tHow I wonder what you are!\n",
      "\t\tUp above the world so high,\n",
      "\t\tLike a diamond in the sky.\n",
      "Twinkle, twinkle, little star,\n",
      "\tHow I wonder what you are!\n"
     ]
    }
   ],
   "source": [
    "# Solution to Q19\n",
    "\n",
    "l = \"Twinkle, twinkle, little star,\\n\\tHow I wonder what you are!\\n\\t\\tUp above the world so high,\\n\\t\\tLike a diamond in the sky.\\nTwinkle, twinkle, little star,\\n\\tHow I wonder what you are!\"\n",
    "print(l)"
   ]
  },
  {
   "cell_type": "markdown",
   "id": "c06d4f8d",
   "metadata": {},
   "source": [
    "<p style=\"font-family:Footlight MT Light;text-align:left;font-size: 1.2em;font-weight:bold;color:#D90571;\">\n",
    "20. Write a Python program to display the first and last colors from the following list.<br>\n",
    "color_list = [\"Red\",\"Green\",\"White\" ,\"Black\"]\n",
    "<br>\n",
    "</p>\n"
   ]
  },
  {
   "cell_type": "code",
   "execution_count": 44,
   "id": "64b8bbd8",
   "metadata": {},
   "outputs": [
    {
     "name": "stdout",
     "output_type": "stream",
     "text": [
      "Red Black\n"
     ]
    }
   ],
   "source": [
    "# Solution to Q20\n",
    "\n",
    "color_list = [\"Red\",\"Green\",\"White\" ,\"Black\"]\n",
    "\n",
    "print(color_list[0],color_list[-1])"
   ]
  }
 ],
 "metadata": {
  "kernelspec": {
   "display_name": "Python 3",
   "language": "python",
   "name": "python3"
  },
  "language_info": {
   "codemirror_mode": {
    "name": "ipython",
    "version": 3
   },
   "file_extension": ".py",
   "mimetype": "text/x-python",
   "name": "python",
   "nbconvert_exporter": "python",
   "pygments_lexer": "ipython3",
   "version": "3.9.7"
  }
 },
 "nbformat": 4,
 "nbformat_minor": 5
}
