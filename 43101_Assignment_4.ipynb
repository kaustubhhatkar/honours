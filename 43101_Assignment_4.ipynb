{
 "cells": [
  {
   "cell_type": "markdown",
   "metadata": {
    "id": "R6ttoDo3ZNr4"
   },
   "source": [
    "<h1 style=\"font-family:Patua One;text-align:center;font-size=45px;color:#049AE1;\">Machine Learning Laboratory </h1>\n",
    "<h2 style=\"font-family:Patua One;text-align:center;font-size=45px;color:#049AE1;\">(410302) </h2>\n",
    "<h3 style=\"font-family:Bookman Old Style;text-align:center;font-size=35px;color:#03D1EE;\">BE Sem I Honors in AI/ML </h3>\n",
    "<h4 style=\"font-family:Bookman Old Style;text-align:center;font-size=30px;color:#03D1EE;\">Academic Year: 2022-23 </h4>\n",
    "<h2 style=\"font-family:Farro;text-align:center;font-size=50px;color:#02DA87;\">Lab Assignment No.1  </h2>\n",
    "<h4 style=\"font-family:Bookman Old Style;text-align:right;font-size=30px;color:#A6065B;\">Name - XYZ </h4>\n",
    "<h4 style=\"font-family:Bookman Old Style;text-align:right;font-size=30px;color:#A6065B;\">Roll No. - 12345 </h4>\n",
    "<h4 style=\"font-family:Bookman Old Style;text-align:right;font-size=30px;color:#A6065B;\">Branch - E&TE </h4>\n",
    "<h4 style=\"font-family:Bookman Old Style;text-align:right;font-size=30px;color:#A6065B;\">College - P.I.C.T </h4>\n",
    "<br>"
   ]
  },
  {
   "cell_type": "markdown",
   "metadata": {
    "id": "FPN5qJymZNjV"
   },
   "source": [
    "<br><p style=\"font-family:Footlight MT Light;text-align:left;font-size:1.2em;font-weight:bold;color:#E35E06;\"> \n",
    "    Problem Statement:<br>\n",
    " Write a program to solve house price prediction problem for single variable and multivariable linear Regression using python\n",
    " </p>"
   ]
  },
  {
   "cell_type": "markdown",
   "metadata": {
    "id": "wKNKH_j_eHgE"
   },
   "source": [
    "<br><p style=\"font-family:Footlight MT Light;text-align:left;font-size:1.2em;font-weight:bold;color:#D90571;\">\n",
    "Lab Exercise 1 (Single Variable Regression)\n",
    "    <br><br>\n",
    "Predict Canada’s per capita income in year 2020. you will find canada_per_capita_income.csv file. Using this build a regression model and predict the per capita income of Canadian citizens in year 2020.\n",
    "</p>\n",
    "\n"
   ]
  },
  {
   "cell_type": "code",
   "execution_count": null,
   "metadata": {
    "_cell_guid": "b1076dfc-b9ad-4769-8c92-a6c4dae69d19",
    "_uuid": "8f2839f25d086af736a60e9eeb907d3b93b6e0e5",
    "execution": {
     "iopub.execute_input": "2021-01-25T06:29:45.635499Z",
     "iopub.status.busy": "2021-01-25T06:29:45.634667Z",
     "iopub.status.idle": "2021-01-25T06:29:45.649085Z",
     "shell.execute_reply": "2021-01-25T06:29:45.648348Z"
    },
    "id": "q-TrJxwlZMpv",
    "papermill": {
     "duration": 0.035462,
     "end_time": "2021-01-25T06:29:45.649222",
     "exception": false,
     "start_time": "2021-01-25T06:29:45.613760",
     "status": "completed"
    },
    "tags": []
   },
   "outputs": [],
   "source": [
    "import numpy as np \n",
    "import pandas as pd\n"
   ]
  },
  {
   "cell_type": "code",
   "execution_count": null,
   "metadata": {
    "colab": {
     "base_uri": "https://localhost:8080/",
     "height": 206
    },
    "execution": {
     "iopub.execute_input": "2021-01-25T06:29:45.720684Z",
     "iopub.status.busy": "2021-01-25T06:29:45.719840Z",
     "iopub.status.idle": "2021-01-25T06:29:45.748494Z",
     "shell.execute_reply": "2021-01-25T06:29:45.747766Z"
    },
    "id": "hdH1UTErZMp0",
    "outputId": "a23796ae-fe6b-464b-e36e-b526cc9c2960",
    "papermill": {
     "duration": 0.045617,
     "end_time": "2021-01-25T06:29:45.748648",
     "exception": false,
     "start_time": "2021-01-25T06:29:45.703031",
     "status": "completed"
    },
    "tags": []
   },
   "outputs": [
    {
     "data": {
      "text/html": [
       "<div>\n",
       "<style scoped>\n",
       "    .dataframe tbody tr th:only-of-type {\n",
       "        vertical-align: middle;\n",
       "    }\n",
       "\n",
       "    .dataframe tbody tr th {\n",
       "        vertical-align: top;\n",
       "    }\n",
       "\n",
       "    .dataframe thead th {\n",
       "        text-align: right;\n",
       "    }\n",
       "</style>\n",
       "<table border=\"1\" class=\"dataframe\">\n",
       "  <thead>\n",
       "    <tr style=\"text-align: right;\">\n",
       "      <th></th>\n",
       "      <th>year</th>\n",
       "      <th>per capita income (US$)</th>\n",
       "    </tr>\n",
       "  </thead>\n",
       "  <tbody>\n",
       "    <tr>\n",
       "      <th>0</th>\n",
       "      <td>1970</td>\n",
       "      <td>3399.299037</td>\n",
       "    </tr>\n",
       "    <tr>\n",
       "      <th>1</th>\n",
       "      <td>1971</td>\n",
       "      <td>3768.297935</td>\n",
       "    </tr>\n",
       "    <tr>\n",
       "      <th>2</th>\n",
       "      <td>1972</td>\n",
       "      <td>4251.175484</td>\n",
       "    </tr>\n",
       "    <tr>\n",
       "      <th>3</th>\n",
       "      <td>1973</td>\n",
       "      <td>4804.463248</td>\n",
       "    </tr>\n",
       "    <tr>\n",
       "      <th>4</th>\n",
       "      <td>1974</td>\n",
       "      <td>5576.514583</td>\n",
       "    </tr>\n",
       "  </tbody>\n",
       "</table>\n",
       "</div>"
      ],
      "text/plain": [
       "   year  per capita income (US$)\n",
       "0  1970              3399.299037\n",
       "1  1971              3768.297935\n",
       "2  1972              4251.175484\n",
       "3  1973              4804.463248\n",
       "4  1974              5576.514583"
      ]
     },
     "execution_count": 17,
     "metadata": {},
     "output_type": "execute_result"
    }
   ],
   "source": [
    "\n",
    "df = pd.read_csv(\"canada_per_capita_income.csv\")\n",
    "df.head()"
   ]
  },
  {
   "cell_type": "code",
   "execution_count": null,
   "metadata": {
    "colab": {
     "base_uri": "https://localhost:8080/"
    },
    "execution": {
     "iopub.execute_input": "2021-01-25T06:29:45.789505Z",
     "iopub.status.busy": "2021-01-25T06:29:45.788748Z",
     "iopub.status.idle": "2021-01-25T06:29:45.793363Z",
     "shell.execute_reply": "2021-01-25T06:29:45.792717Z"
    },
    "id": "CcDzAjS2ZMp1",
    "outputId": "cdd1c7cb-eba4-4619-ef72-cc70f6799e46",
    "papermill": {
     "duration": 0.027409,
     "end_time": "2021-01-25T06:29:45.793470",
     "exception": false,
     "start_time": "2021-01-25T06:29:45.766061",
     "status": "completed"
    },
    "tags": []
   },
   "outputs": [
    {
     "data": {
      "text/plain": [
       "(47, 2)"
      ]
     },
     "execution_count": 18,
     "metadata": {},
     "output_type": "execute_result"
    }
   ],
   "source": [
    "df.shape "
   ]
  },
  {
   "cell_type": "code",
   "execution_count": null,
   "metadata": {
    "colab": {
     "base_uri": "https://localhost:8080/"
    },
    "execution": {
     "iopub.execute_input": "2021-01-25T06:29:45.823605Z",
     "iopub.status.busy": "2021-01-25T06:29:45.822999Z",
     "iopub.status.idle": "2021-01-25T06:29:45.836042Z",
     "shell.execute_reply": "2021-01-25T06:29:45.836670Z"
    },
    "id": "Tjr89fsvZMp2",
    "outputId": "ff877e9f-0af4-4789-d0cc-de78117cb180",
    "papermill": {
     "duration": 0.031265,
     "end_time": "2021-01-25T06:29:45.836847",
     "exception": false,
     "start_time": "2021-01-25T06:29:45.805582",
     "status": "completed"
    },
    "tags": []
   },
   "outputs": [
    {
     "name": "stdout",
     "output_type": "stream",
     "text": [
      "<class 'pandas.core.frame.DataFrame'>\n",
      "RangeIndex: 47 entries, 0 to 46\n",
      "Data columns (total 2 columns):\n",
      " #   Column                   Non-Null Count  Dtype  \n",
      "---  ------                   --------------  -----  \n",
      " 0   year                     47 non-null     int64  \n",
      " 1   per capita income (US$)  47 non-null     float64\n",
      "dtypes: float64(1), int64(1)\n",
      "memory usage: 880.0 bytes\n"
     ]
    }
   ],
   "source": [
    "df.info() "
   ]
  },
  {
   "cell_type": "code",
   "execution_count": null,
   "metadata": {
    "colab": {
     "base_uri": "https://localhost:8080/",
     "height": 300
    },
    "execution": {
     "iopub.execute_input": "2021-01-25T06:29:45.865436Z",
     "iopub.status.busy": "2021-01-25T06:29:45.864861Z",
     "iopub.status.idle": "2021-01-25T06:29:45.885603Z",
     "shell.execute_reply": "2021-01-25T06:29:45.886130Z"
    },
    "id": "lsoCAgG9ZMp2",
    "outputId": "db335073-54e1-4d37-cbe0-625da33e0244",
    "papermill": {
     "duration": 0.036563,
     "end_time": "2021-01-25T06:29:45.886273",
     "exception": false,
     "start_time": "2021-01-25T06:29:45.849710",
     "status": "completed"
    },
    "tags": []
   },
   "outputs": [
    {
     "data": {
      "text/html": [
       "<div>\n",
       "<style scoped>\n",
       "    .dataframe tbody tr th:only-of-type {\n",
       "        vertical-align: middle;\n",
       "    }\n",
       "\n",
       "    .dataframe tbody tr th {\n",
       "        vertical-align: top;\n",
       "    }\n",
       "\n",
       "    .dataframe thead th {\n",
       "        text-align: right;\n",
       "    }\n",
       "</style>\n",
       "<table border=\"1\" class=\"dataframe\">\n",
       "  <thead>\n",
       "    <tr style=\"text-align: right;\">\n",
       "      <th></th>\n",
       "      <th>year</th>\n",
       "      <th>per capita income (US$)</th>\n",
       "    </tr>\n",
       "  </thead>\n",
       "  <tbody>\n",
       "    <tr>\n",
       "      <th>count</th>\n",
       "      <td>47.000000</td>\n",
       "      <td>47.000000</td>\n",
       "    </tr>\n",
       "    <tr>\n",
       "      <th>mean</th>\n",
       "      <td>1993.000000</td>\n",
       "      <td>18920.137063</td>\n",
       "    </tr>\n",
       "    <tr>\n",
       "      <th>std</th>\n",
       "      <td>13.711309</td>\n",
       "      <td>12034.679438</td>\n",
       "    </tr>\n",
       "    <tr>\n",
       "      <th>min</th>\n",
       "      <td>1970.000000</td>\n",
       "      <td>3399.299037</td>\n",
       "    </tr>\n",
       "    <tr>\n",
       "      <th>25%</th>\n",
       "      <td>1981.500000</td>\n",
       "      <td>9526.914515</td>\n",
       "    </tr>\n",
       "    <tr>\n",
       "      <th>50%</th>\n",
       "      <td>1993.000000</td>\n",
       "      <td>16426.725480</td>\n",
       "    </tr>\n",
       "    <tr>\n",
       "      <th>75%</th>\n",
       "      <td>2004.500000</td>\n",
       "      <td>27458.601420</td>\n",
       "    </tr>\n",
       "    <tr>\n",
       "      <th>max</th>\n",
       "      <td>2016.000000</td>\n",
       "      <td>42676.468370</td>\n",
       "    </tr>\n",
       "  </tbody>\n",
       "</table>\n",
       "</div>"
      ],
      "text/plain": [
       "              year  per capita income (US$)\n",
       "count    47.000000                47.000000\n",
       "mean   1993.000000             18920.137063\n",
       "std      13.711309             12034.679438\n",
       "min    1970.000000              3399.299037\n",
       "25%    1981.500000              9526.914515\n",
       "50%    1993.000000             16426.725480\n",
       "75%    2004.500000             27458.601420\n",
       "max    2016.000000             42676.468370"
      ]
     },
     "execution_count": 20,
     "metadata": {},
     "output_type": "execute_result"
    }
   ],
   "source": [
    "df.describe() "
   ]
  },
  {
   "cell_type": "code",
   "execution_count": null,
   "metadata": {
    "colab": {
     "base_uri": "https://localhost:8080/",
     "height": 296
    },
    "execution": {
     "iopub.execute_input": "2021-01-25T06:29:45.917175Z",
     "iopub.status.busy": "2021-01-25T06:29:45.916532Z",
     "iopub.status.idle": "2021-01-25T06:29:46.135566Z",
     "shell.execute_reply": "2021-01-25T06:29:46.136060Z"
    },
    "id": "xEYoiqKcZMp3",
    "outputId": "b97611f8-431e-4cce-e2f5-3cf9c68874ba",
    "papermill": {
     "duration": 0.236147,
     "end_time": "2021-01-25T06:29:46.136207",
     "exception": false,
     "start_time": "2021-01-25T06:29:45.900060",
     "status": "completed"
    },
    "tags": []
   },
   "outputs": [
    {
     "data": {
      "text/plain": [
       "Text(0, 0.5, 'Per capita Income')"
      ]
     },
     "execution_count": 21,
     "metadata": {},
     "output_type": "execute_result"
    },
    {
     "data": {
      "image/png": "[encoded data removed]",
      "text/plain": [
       "<Figure size 432x288 with 1 Axes>"
      ]
     },
     "metadata": {
      "needs_background": "light"
     },
     "output_type": "display_data"
    }
   ],
   "source": [
    "\n",
    "import matplotlib.pyplot as plt \n",
    "\n",
    "plt.scatter(df[\"year\"], df[\"per capita income (US$)\"], color=\"r\")\n",
    "plt.xlabel(\"Year\")\n",
    "plt.ylabel(\"Per capita Income\")"
   ]
  },
  {
   "cell_type": "code",
   "execution_count": null,
   "metadata": {
    "execution": {
     "iopub.execute_input": "2021-01-25T06:29:46.172793Z",
     "iopub.status.busy": "2021-01-25T06:29:46.172077Z",
     "iopub.status.idle": "2021-01-25T06:29:46.176187Z",
     "shell.execute_reply": "2021-01-25T06:29:46.176918Z"
    },
    "id": "7xLmSBQpZMp3",
    "papermill": {
     "duration": 0.025654,
     "end_time": "2021-01-25T06:29:46.177096",
     "exception": false,
     "start_time": "2021-01-25T06:29:46.151442",
     "status": "completed"
    },
    "tags": []
   },
   "outputs": [],
   "source": [
    "x = df[[\"year\"]].values\n",
    "y = df[\"per capita income (US$)\"].values\n"
   ]
  },
  {
   "cell_type": "code",
   "execution_count": null,
   "metadata": {
    "colab": {
     "base_uri": "https://localhost:8080/"
    },
    "execution": {
     "iopub.execute_input": "2021-01-25T06:29:46.226233Z",
     "iopub.status.busy": "2021-01-25T06:29:46.225442Z",
     "iopub.status.idle": "2021-01-25T06:29:47.297836Z",
     "shell.execute_reply": "2021-01-25T06:29:47.297297Z"
    },
    "id": "vF0vUrlHZMp4",
    "outputId": "84c1e749-9fd4-4f3d-c6ac-fbd5f221a354",
    "papermill": {
     "duration": 1.099047,
     "end_time": "2021-01-25T06:29:47.297954",
     "exception": false,
     "start_time": "2021-01-25T06:29:46.198907",
     "status": "completed"
    },
    "tags": []
   },
   "outputs": [
    {
     "data": {
      "text/plain": [
       "LinearRegression(copy_X=True, fit_intercept=True, n_jobs=None, normalize=False)"
      ]
     },
     "execution_count": 23,
     "metadata": {},
     "output_type": "execute_result"
    }
   ],
   "source": [
    "\n",
    "from sklearn.linear_model import LinearRegression\n",
    "\n",
    "lr = LinearRegression() \n",
    "lr.fit(x, y)          "
   ]
  },
  {
   "cell_type": "code",
   "execution_count": null,
   "metadata": {
    "colab": {
     "base_uri": "https://localhost:8080/"
    },
    "execution": {
     "iopub.execute_input": "2021-01-25T06:29:47.336099Z",
     "iopub.status.busy": "2021-01-25T06:29:47.335417Z",
     "iopub.status.idle": "2021-01-25T06:29:47.338949Z",
     "shell.execute_reply": "2021-01-25T06:29:47.339452Z"
    },
    "id": "bQCESBGeZMp5",
    "outputId": "42c19d26-0964-4dc6-9772-1c01741ea739",
    "papermill": {
     "duration": 0.026305,
     "end_time": "2021-01-25T06:29:47.339605",
     "exception": false,
     "start_time": "2021-01-25T06:29:47.313300",
     "status": "completed"
    },
    "tags": []
   },
   "outputs": [
    {
     "data": {
      "text/plain": [
       "array([[ -134.55966672],\n",
       "       [  693.9054085 ],\n",
       "       [ 1522.37048373],\n",
       "       [ 2350.83555895],\n",
       "       [ 3179.30063417],\n",
       "       [ 4007.7657094 ],\n",
       "       [ 4836.23078462],\n",
       "       [ 5664.69585984],\n",
       "       [ 6493.16093506],\n",
       "       [ 7321.62601029],\n",
       "       [ 8150.09108551],\n",
       "       [ 8978.55616073],\n",
       "       [ 9807.02123595],\n",
       "       [10635.48631118],\n",
       "       [11463.9513864 ],\n",
       "       [12292.41646162],\n",
       "       [13120.88153685],\n",
       "       [13949.34661207],\n",
       "       [14777.81168729],\n",
       "       [15606.27676251],\n",
       "       [16434.74183774],\n",
       "       [17263.20691296],\n",
       "       [18091.67198818],\n",
       "       [18920.1370634 ],\n",
       "       [19748.60213863],\n",
       "       [20577.06721385],\n",
       "       [21405.53228907],\n",
       "       [22233.9973643 ],\n",
       "       [23062.46243952],\n",
       "       [23890.92751474],\n",
       "       [24719.39258996],\n",
       "       [25547.85766519],\n",
       "       [26376.32274041],\n",
       "       [27204.78781563],\n",
       "       [28033.25289085],\n",
       "       [28861.71796608],\n",
       "       [29690.1830413 ],\n",
       "       [30518.64811652],\n",
       "       [31347.11319175],\n",
       "       [32175.57826697],\n",
       "       [33004.04334219],\n",
       "       [33832.50841741],\n",
       "       [34660.97349264],\n",
       "       [35489.43856786],\n",
       "       [36317.90364308],\n",
       "       [37146.3687183 ],\n",
       "       [37974.83379353]])"
      ]
     },
     "execution_count": 24,
     "metadata": {},
     "output_type": "execute_result"
    }
   ],
   "source": [
    "m = lr.coef_   \n",
    "c = lr.intercept_ \n",
    "\n",
    "y = m*x + c\n",
    "y  "
   ]
  },
  {
   "cell_type": "code",
   "execution_count": null,
   "metadata": {
    "colab": {
     "base_uri": "https://localhost:8080/",
     "height": 296
    },
    "execution": {
     "iopub.execute_input": "2021-01-25T06:29:47.396174Z",
     "iopub.status.busy": "2021-01-25T06:29:47.395528Z",
     "iopub.status.idle": "2021-01-25T06:29:47.570119Z",
     "shell.execute_reply": "2021-01-25T06:29:47.569621Z"
    },
    "id": "CBgprN1fZMp6",
    "outputId": "9e21c528-6246-4c19-ac00-5d9f8de8296c",
    "papermill": {
     "duration": 0.21479,
     "end_time": "2021-01-25T06:29:47.570226",
     "exception": false,
     "start_time": "2021-01-25T06:29:47.355436",
     "status": "completed"
    },
    "tags": []
   },
   "outputs": [
    {
     "data": {
      "text/plain": [
       "Text(0, 0.5, 'Per Capita Income')"
      ]
     },
     "execution_count": 25,
     "metadata": {},
     "output_type": "execute_result"
    },
    {
     "data": {
      "image/png": "[encoded data removed]",
      "text/plain": [
       "<Figure size 432x288 with 1 Axes>"
      ]
     },
     "metadata": {
      "needs_background": "light"
     },
     "output_type": "display_data"
    }
   ],
   "source": [
    "x = df[[\"year\"]]\n",
    "y = df[\"per capita income (US$)\"]\n",
    "plt.scatter(x, y, color=\"b\")\n",
    "plt.plot(x, lr.predict(x), color=\"r\")\n",
    "plt.xlabel(\"Year\")\n",
    "plt.ylabel(\"Per Capita Income\")"
   ]
  },
  {
   "cell_type": "code",
   "execution_count": null,
   "metadata": {
    "colab": {
     "base_uri": "https://localhost:8080/"
    },
    "execution": {
     "iopub.execute_input": "2021-01-25T06:29:47.613086Z",
     "iopub.status.busy": "2021-01-25T06:29:47.612189Z",
     "iopub.status.idle": "2021-01-25T06:29:47.616712Z",
     "shell.execute_reply": "2021-01-25T06:29:47.616013Z"
    },
    "id": "g83CSWfkZMp6",
    "outputId": "958cdc1f-d40c-43e2-eb15-1eeecef3d6cd",
    "papermill": {
     "duration": 0.029348,
     "end_time": "2021-01-25T06:29:47.616841",
     "exception": false,
     "start_time": "2021-01-25T06:29:47.587493",
     "status": "completed"
    },
    "tags": []
   },
   "outputs": [
    {
     "data": {
      "text/plain": [
       "array([41288.69409442])"
      ]
     },
     "execution_count": 26,
     "metadata": {},
     "output_type": "execute_result"
    }
   ],
   "source": [
    "lr.predict([[2020]])  "
   ]
  },
  {
   "cell_type": "code",
   "execution_count": null,
   "metadata": {
    "colab": {
     "base_uri": "https://localhost:8080/",
     "height": 296
    },
    "execution": {
     "iopub.execute_input": "2021-01-25T06:29:47.678045Z",
     "iopub.status.busy": "2021-01-25T06:29:47.677113Z",
     "iopub.status.idle": "2021-01-25T06:29:47.833532Z",
     "shell.execute_reply": "2021-01-25T06:29:47.832739Z"
    },
    "id": "zMQy6PQ6ZMp7",
    "outputId": "c3e5015f-44a1-42f7-f9b2-26858467cf94",
    "papermill": {
     "duration": 0.19094,
     "end_time": "2021-01-25T06:29:47.833705",
     "exception": false,
     "start_time": "2021-01-25T06:29:47.642765",
     "status": "completed"
    },
    "tags": []
   },
   "outputs": [
    {
     "data": {
      "text/plain": [
       "Text(0, 0.5, 'Per Capita Income')"
      ]
     },
     "execution_count": 27,
     "metadata": {},
     "output_type": "execute_result"
    },
    {
     "data": {
      "image/png": "[encoded data removed]",
      "text/plain": [
       "<Figure size 432x288 with 1 Axes>"
      ]
     },
     "metadata": {
      "needs_background": "light"
     },
     "output_type": "display_data"
    }
   ],
   "source": [
    "\n",
    "y_prediction = lr.predict(x)  \n",
    "\n",
    "plt.scatter(x, y, color=\"blue\")  \n",
    "plt.scatter([[2020]], lr.predict([[2020]]), color=\"black\", marker=\"^\") \n",
    "plt.plot(x, y_prediction, color=\"r\") \n",
    "plt.xlabel(\"Year\")\n",
    "plt.ylabel(\"Per Capita Income\")"
   ]
  },
  {
   "cell_type": "markdown",
   "metadata": {
    "id": "8x58-4uTdtWE"
   },
   "source": [
    "<br><p style=\"font-family:Footlight MT Light;text-align:left;font-size:1.2em;font-weight:bold;color:#8E06E3;\">Conclusion<br>\n",
    "The predicted price is 41288.69409442 $.\n",
    "</p>\n",
    "\n"
   ]
  },
  {
   "cell_type": "markdown",
   "metadata": {
    "id": "_qHvBJBPdKaS"
   },
   "source": [
    "<br><p style=\"font-family:Footlight MT Light;text-align:left;font-size:1.2em;font-weight:bold;color:#D90571;\">\n",
    "Lab Exercise 2 (multivariable Regression)<br>\n",
    "You will find hiring.csv. This file contains hiring statics for a firm such as experience of candidate, his written test score and personal interview score. Based on these 3 factors, HR will decide the salary. Given this data, you need to build a machine learning model for HR department that can help them decide salaries for future candidates.\n",
    "<br> Using this predict salaries for following candidates,<br>1)\t  02 yrs. experience, 9 test score, 6 interview score<br>2)\t  12 yrs. experience, 10 test score, 10 interview score\n",
    "2020\n",
    "</p>\n",
    "\n"
   ]
  },
  {
   "cell_type": "code",
   "execution_count": null,
   "metadata": {
    "id": "vFffGILjdKaS"
   },
   "outputs": [],
   "source": [
    "import pandas as pd\n",
    "import numpy as np\n",
    "from sklearn import linear_model\n",
    "from word2number import w2n\n",
    "import math"
   ]
  },
  {
   "cell_type": "code",
   "execution_count": null,
   "metadata": {
    "id": "I1h9nU0UdKaT",
    "outputId": "e58bb6dc-8d48-4a76-8d59-0eda26fecc48"
   },
   "outputs": [
    {
     "data": {
      "text/html": [
       "<div>\n",
       "<style scoped>\n",
       "    .dataframe tbody tr th:only-of-type {\n",
       "        vertical-align: middle;\n",
       "    }\n",
       "\n",
       "    .dataframe tbody tr th {\n",
       "        vertical-align: top;\n",
       "    }\n",
       "\n",
       "    .dataframe thead th {\n",
       "        text-align: right;\n",
       "    }\n",
       "</style>\n",
       "<table border=\"1\" class=\"dataframe\">\n",
       "  <thead>\n",
       "    <tr style=\"text-align: right;\">\n",
       "      <th></th>\n",
       "      <th>experience</th>\n",
       "      <th>test_score(out of 10)</th>\n",
       "      <th>interview_score(out of 10)</th>\n",
       "      <th>salary($)</th>\n",
       "    </tr>\n",
       "  </thead>\n",
       "  <tbody>\n",
       "    <tr>\n",
       "      <th>0</th>\n",
       "      <td>NaN</td>\n",
       "      <td>8.0</td>\n",
       "      <td>9</td>\n",
       "      <td>50000</td>\n",
       "    </tr>\n",
       "    <tr>\n",
       "      <th>1</th>\n",
       "      <td>NaN</td>\n",
       "      <td>8.0</td>\n",
       "      <td>6</td>\n",
       "      <td>45000</td>\n",
       "    </tr>\n",
       "    <tr>\n",
       "      <th>2</th>\n",
       "      <td>five</td>\n",
       "      <td>6.0</td>\n",
       "      <td>7</td>\n",
       "      <td>60000</td>\n",
       "    </tr>\n",
       "    <tr>\n",
       "      <th>3</th>\n",
       "      <td>two</td>\n",
       "      <td>10.0</td>\n",
       "      <td>10</td>\n",
       "      <td>65000</td>\n",
       "    </tr>\n",
       "    <tr>\n",
       "      <th>4</th>\n",
       "      <td>seven</td>\n",
       "      <td>9.0</td>\n",
       "      <td>6</td>\n",
       "      <td>70000</td>\n",
       "    </tr>\n",
       "    <tr>\n",
       "      <th>5</th>\n",
       "      <td>three</td>\n",
       "      <td>7.0</td>\n",
       "      <td>10</td>\n",
       "      <td>62000</td>\n",
       "    </tr>\n",
       "    <tr>\n",
       "      <th>6</th>\n",
       "      <td>ten</td>\n",
       "      <td>NaN</td>\n",
       "      <td>7</td>\n",
       "      <td>72000</td>\n",
       "    </tr>\n",
       "    <tr>\n",
       "      <th>7</th>\n",
       "      <td>eleven</td>\n",
       "      <td>7.0</td>\n",
       "      <td>8</td>\n",
       "      <td>80000</td>\n",
       "    </tr>\n",
       "  </tbody>\n",
       "</table>\n",
       "</div>"
      ],
      "text/plain": [
       "  experience  test_score(out of 10)  interview_score(out of 10)  salary($)\n",
       "0        NaN                    8.0                           9      50000\n",
       "1        NaN                    8.0                           6      45000\n",
       "2       five                    6.0                           7      60000\n",
       "3        two                   10.0                          10      65000\n",
       "4      seven                    9.0                           6      70000\n",
       "5      three                    7.0                          10      62000\n",
       "6        ten                    NaN                           7      72000\n",
       "7     eleven                    7.0                           8      80000"
      ]
     },
     "execution_count": 2,
     "metadata": {},
     "output_type": "execute_result"
    }
   ],
   "source": [
    "df = pd.read_csv('hiring.csv')\n",
    "df"
   ]
  },
  {
   "cell_type": "code",
   "execution_count": null,
   "metadata": {
    "id": "IXb4oFP8dKaT",
    "outputId": "254dd404-d0d0-4149-ce44-853feeb3a030"
   },
   "outputs": [
    {
     "data": {
      "text/html": [
       "<div>\n",
       "<style scoped>\n",
       "    .dataframe tbody tr th:only-of-type {\n",
       "        vertical-align: middle;\n",
       "    }\n",
       "\n",
       "    .dataframe tbody tr th {\n",
       "        vertical-align: top;\n",
       "    }\n",
       "\n",
       "    .dataframe thead th {\n",
       "        text-align: right;\n",
       "    }\n",
       "</style>\n",
       "<table border=\"1\" class=\"dataframe\">\n",
       "  <thead>\n",
       "    <tr style=\"text-align: right;\">\n",
       "      <th></th>\n",
       "      <th>experience</th>\n",
       "      <th>test_score(out of 10)</th>\n",
       "      <th>interview_score(out of 10)</th>\n",
       "      <th>salary($)</th>\n",
       "    </tr>\n",
       "  </thead>\n",
       "  <tbody>\n",
       "    <tr>\n",
       "      <th>0</th>\n",
       "      <td>zero</td>\n",
       "      <td>8.0</td>\n",
       "      <td>9</td>\n",
       "      <td>50000</td>\n",
       "    </tr>\n",
       "    <tr>\n",
       "      <th>1</th>\n",
       "      <td>zero</td>\n",
       "      <td>8.0</td>\n",
       "      <td>6</td>\n",
       "      <td>45000</td>\n",
       "    </tr>\n",
       "    <tr>\n",
       "      <th>2</th>\n",
       "      <td>five</td>\n",
       "      <td>6.0</td>\n",
       "      <td>7</td>\n",
       "      <td>60000</td>\n",
       "    </tr>\n",
       "    <tr>\n",
       "      <th>3</th>\n",
       "      <td>two</td>\n",
       "      <td>10.0</td>\n",
       "      <td>10</td>\n",
       "      <td>65000</td>\n",
       "    </tr>\n",
       "    <tr>\n",
       "      <th>4</th>\n",
       "      <td>seven</td>\n",
       "      <td>9.0</td>\n",
       "      <td>6</td>\n",
       "      <td>70000</td>\n",
       "    </tr>\n",
       "    <tr>\n",
       "      <th>5</th>\n",
       "      <td>three</td>\n",
       "      <td>7.0</td>\n",
       "      <td>10</td>\n",
       "      <td>62000</td>\n",
       "    </tr>\n",
       "    <tr>\n",
       "      <th>6</th>\n",
       "      <td>ten</td>\n",
       "      <td>NaN</td>\n",
       "      <td>7</td>\n",
       "      <td>72000</td>\n",
       "    </tr>\n",
       "    <tr>\n",
       "      <th>7</th>\n",
       "      <td>eleven</td>\n",
       "      <td>7.0</td>\n",
       "      <td>8</td>\n",
       "      <td>80000</td>\n",
       "    </tr>\n",
       "  </tbody>\n",
       "</table>\n",
       "</div>"
      ],
      "text/plain": [
       "  experience  test_score(out of 10)  interview_score(out of 10)  salary($)\n",
       "0       zero                    8.0                           9      50000\n",
       "1       zero                    8.0                           6      45000\n",
       "2       five                    6.0                           7      60000\n",
       "3        two                   10.0                          10      65000\n",
       "4      seven                    9.0                           6      70000\n",
       "5      three                    7.0                          10      62000\n",
       "6        ten                    NaN                           7      72000\n",
       "7     eleven                    7.0                           8      80000"
      ]
     },
     "execution_count": 3,
     "metadata": {},
     "output_type": "execute_result"
    }
   ],
   "source": [
    "df['experience'] = df['experience'].fillna('zero')\n",
    "df"
   ]
  },
  {
   "cell_type": "code",
   "execution_count": null,
   "metadata": {
    "id": "YxNQ0olddKaT",
    "outputId": "3f7e80e2-4d87-42f9-851f-181327f56cc0"
   },
   "outputs": [
    {
     "data": {
      "text/html": [
       "<div>\n",
       "<style scoped>\n",
       "    .dataframe tbody tr th:only-of-type {\n",
       "        vertical-align: middle;\n",
       "    }\n",
       "\n",
       "    .dataframe tbody tr th {\n",
       "        vertical-align: top;\n",
       "    }\n",
       "\n",
       "    .dataframe thead th {\n",
       "        text-align: right;\n",
       "    }\n",
       "</style>\n",
       "<table border=\"1\" class=\"dataframe\">\n",
       "  <thead>\n",
       "    <tr style=\"text-align: right;\">\n",
       "      <th></th>\n",
       "      <th>experience</th>\n",
       "      <th>test_score(out of 10)</th>\n",
       "      <th>interview_score(out of 10)</th>\n",
       "      <th>salary($)</th>\n",
       "    </tr>\n",
       "  </thead>\n",
       "  <tbody>\n",
       "    <tr>\n",
       "      <th>0</th>\n",
       "      <td>0</td>\n",
       "      <td>8.0</td>\n",
       "      <td>9</td>\n",
       "      <td>50000</td>\n",
       "    </tr>\n",
       "    <tr>\n",
       "      <th>1</th>\n",
       "      <td>0</td>\n",
       "      <td>8.0</td>\n",
       "      <td>6</td>\n",
       "      <td>45000</td>\n",
       "    </tr>\n",
       "    <tr>\n",
       "      <th>2</th>\n",
       "      <td>5</td>\n",
       "      <td>6.0</td>\n",
       "      <td>7</td>\n",
       "      <td>60000</td>\n",
       "    </tr>\n",
       "    <tr>\n",
       "      <th>3</th>\n",
       "      <td>2</td>\n",
       "      <td>10.0</td>\n",
       "      <td>10</td>\n",
       "      <td>65000</td>\n",
       "    </tr>\n",
       "    <tr>\n",
       "      <th>4</th>\n",
       "      <td>7</td>\n",
       "      <td>9.0</td>\n",
       "      <td>6</td>\n",
       "      <td>70000</td>\n",
       "    </tr>\n",
       "    <tr>\n",
       "      <th>5</th>\n",
       "      <td>3</td>\n",
       "      <td>7.0</td>\n",
       "      <td>10</td>\n",
       "      <td>62000</td>\n",
       "    </tr>\n",
       "    <tr>\n",
       "      <th>6</th>\n",
       "      <td>10</td>\n",
       "      <td>NaN</td>\n",
       "      <td>7</td>\n",
       "      <td>72000</td>\n",
       "    </tr>\n",
       "    <tr>\n",
       "      <th>7</th>\n",
       "      <td>11</td>\n",
       "      <td>7.0</td>\n",
       "      <td>8</td>\n",
       "      <td>80000</td>\n",
       "    </tr>\n",
       "  </tbody>\n",
       "</table>\n",
       "</div>"
      ],
      "text/plain": [
       "   experience  test_score(out of 10)  interview_score(out of 10)  salary($)\n",
       "0           0                    8.0                           9      50000\n",
       "1           0                    8.0                           6      45000\n",
       "2           5                    6.0                           7      60000\n",
       "3           2                   10.0                          10      65000\n",
       "4           7                    9.0                           6      70000\n",
       "5           3                    7.0                          10      62000\n",
       "6          10                    NaN                           7      72000\n",
       "7          11                    7.0                           8      80000"
      ]
     },
     "execution_count": 4,
     "metadata": {},
     "output_type": "execute_result"
    }
   ],
   "source": [
    "df['experience'] = df['experience'].apply(w2n.word_to_num)\n",
    "df"
   ]
  },
  {
   "cell_type": "code",
   "execution_count": null,
   "metadata": {
    "id": "y7b79II-dKaU",
    "outputId": "2b4f640b-b735-434d-c6d2-1dbe892b2199"
   },
   "outputs": [
    {
     "data": {
      "text/plain": [
       "7"
      ]
     },
     "execution_count": 5,
     "metadata": {},
     "output_type": "execute_result"
    }
   ],
   "source": [
    "mean_test_score = math.floor(df['test_score(out of 10)'].mean())\n",
    "mean_test_score"
   ]
  },
  {
   "cell_type": "code",
   "execution_count": null,
   "metadata": {
    "id": "TZN-DQCEdKaU",
    "outputId": "961dbc9d-6392-4a4d-f8ec-ddd89013c320"
   },
   "outputs": [
    {
     "data": {
      "text/html": [
       "<div>\n",
       "<style scoped>\n",
       "    .dataframe tbody tr th:only-of-type {\n",
       "        vertical-align: middle;\n",
       "    }\n",
       "\n",
       "    .dataframe tbody tr th {\n",
       "        vertical-align: top;\n",
       "    }\n",
       "\n",
       "    .dataframe thead th {\n",
       "        text-align: right;\n",
       "    }\n",
       "</style>\n",
       "<table border=\"1\" class=\"dataframe\">\n",
       "  <thead>\n",
       "    <tr style=\"text-align: right;\">\n",
       "      <th></th>\n",
       "      <th>experience</th>\n",
       "      <th>test_score(out of 10)</th>\n",
       "      <th>interview_score(out of 10)</th>\n",
       "      <th>salary($)</th>\n",
       "    </tr>\n",
       "  </thead>\n",
       "  <tbody>\n",
       "    <tr>\n",
       "      <th>0</th>\n",
       "      <td>0</td>\n",
       "      <td>8.0</td>\n",
       "      <td>9</td>\n",
       "      <td>50000</td>\n",
       "    </tr>\n",
       "    <tr>\n",
       "      <th>1</th>\n",
       "      <td>0</td>\n",
       "      <td>8.0</td>\n",
       "      <td>6</td>\n",
       "      <td>45000</td>\n",
       "    </tr>\n",
       "    <tr>\n",
       "      <th>2</th>\n",
       "      <td>5</td>\n",
       "      <td>6.0</td>\n",
       "      <td>7</td>\n",
       "      <td>60000</td>\n",
       "    </tr>\n",
       "    <tr>\n",
       "      <th>3</th>\n",
       "      <td>2</td>\n",
       "      <td>10.0</td>\n",
       "      <td>10</td>\n",
       "      <td>65000</td>\n",
       "    </tr>\n",
       "    <tr>\n",
       "      <th>4</th>\n",
       "      <td>7</td>\n",
       "      <td>9.0</td>\n",
       "      <td>6</td>\n",
       "      <td>70000</td>\n",
       "    </tr>\n",
       "    <tr>\n",
       "      <th>5</th>\n",
       "      <td>3</td>\n",
       "      <td>7.0</td>\n",
       "      <td>10</td>\n",
       "      <td>62000</td>\n",
       "    </tr>\n",
       "    <tr>\n",
       "      <th>6</th>\n",
       "      <td>10</td>\n",
       "      <td>7.0</td>\n",
       "      <td>7</td>\n",
       "      <td>72000</td>\n",
       "    </tr>\n",
       "    <tr>\n",
       "      <th>7</th>\n",
       "      <td>11</td>\n",
       "      <td>7.0</td>\n",
       "      <td>8</td>\n",
       "      <td>80000</td>\n",
       "    </tr>\n",
       "  </tbody>\n",
       "</table>\n",
       "</div>"
      ],
      "text/plain": [
       "   experience  test_score(out of 10)  interview_score(out of 10)  salary($)\n",
       "0           0                    8.0                           9      50000\n",
       "1           0                    8.0                           6      45000\n",
       "2           5                    6.0                           7      60000\n",
       "3           2                   10.0                          10      65000\n",
       "4           7                    9.0                           6      70000\n",
       "5           3                    7.0                          10      62000\n",
       "6          10                    7.0                           7      72000\n",
       "7          11                    7.0                           8      80000"
      ]
     },
     "execution_count": 6,
     "metadata": {},
     "output_type": "execute_result"
    }
   ],
   "source": [
    "df['test_score(out of 10)'] = df['test_score(out of 10)'].fillna(mean_test_score)\n",
    "df"
   ]
  },
  {
   "cell_type": "code",
   "execution_count": null,
   "metadata": {
    "id": "Ww7PyskkdKaU",
    "outputId": "e427fd56-ba27-48ff-8a94-e81feb5d2d40"
   },
   "outputs": [
    {
     "data": {
      "text/plain": [
       "LinearRegression(copy_X=True, fit_intercept=True, n_jobs=1, normalize=False)"
      ]
     },
     "execution_count": 7,
     "metadata": {},
     "output_type": "execute_result"
    }
   ],
   "source": [
    "# fitting the model\n",
    "reg = linear_model.LinearRegression()\n",
    "reg.fit(df[['experience', 'test_score(out of 10)', 'interview_score(out of 10)']], df['salary($)'])"
   ]
  },
  {
   "cell_type": "code",
   "execution_count": null,
   "metadata": {
    "id": "QAb9kq_MdKaV",
    "outputId": "7a7fa8dd-6054-4016-8906-ca68a7c56c1c"
   },
   "outputs": [
    {
     "data": {
      "text/plain": [
       "array([2922.26901502, 2221.30909959, 2147.48256637])"
      ]
     },
     "execution_count": 8,
     "metadata": {},
     "output_type": "execute_result"
    }
   ],
   "source": [
    "# m value in y = mx + c\n",
    "reg.coef_"
   ]
  },
  {
   "cell_type": "code",
   "execution_count": null,
   "metadata": {
    "id": "rM59HLWJdKaW",
    "outputId": "d9571725-2b40-49c7-f411-31d4711bb044"
   },
   "outputs": [
    {
     "data": {
      "text/plain": [
       "14992.651446693118"
      ]
     },
     "execution_count": 9,
     "metadata": {},
     "output_type": "execute_result"
    }
   ],
   "source": [
    "# c value in y = mx + c\n",
    "reg.intercept_"
   ]
  },
  {
   "cell_type": "code",
   "execution_count": null,
   "metadata": {
    "id": "DoQMNZQsdKaW",
    "outputId": "16a0ce3f-7d1b-4b86-e664-bf7d4ca02636"
   },
   "outputs": [
    {
     "data": {
      "text/plain": [
       "array([53713.86677124])"
      ]
     },
     "execution_count": 10,
     "metadata": {},
     "output_type": "execute_result"
    }
   ],
   "source": [
    "# prediction for question 1\n",
    "reg.predict([[2, 9, 6]])"
   ]
  },
  {
   "cell_type": "code",
   "execution_count": null,
   "metadata": {
    "id": "Ra96ZGIHdKaX",
    "outputId": "a5090753-a4b7-4c56-8c3a-95661fc083e4"
   },
   "outputs": [
    {
     "data": {
      "text/plain": [
       "53713.86677126312"
      ]
     },
     "execution_count": 11,
     "metadata": {},
     "output_type": "execute_result"
    }
   ],
   "source": [
    "# regression-line equation solution for question 1\n",
    "2922.26901502 * 2 + 2221.30909959 * 9 + 2147.48256637 * 6 + 14992.651446693118"
   ]
  },
  {
   "cell_type": "code",
   "execution_count": null,
   "metadata": {
    "id": "5K-7lxSHdKaY",
    "outputId": "1f70d322-635f-472e-b49b-b9fd8150b5af"
   },
   "outputs": [
    {
     "data": {
      "text/plain": [
       "array([93747.79628651])"
      ]
     },
     "execution_count": 12,
     "metadata": {},
     "output_type": "execute_result"
    }
   ],
   "source": [
    "# prediction for question 2\n",
    "reg.predict([[12, 10, 10]])"
   ]
  },
  {
   "cell_type": "code",
   "execution_count": null,
   "metadata": {
    "id": "UAKaOvzidKaY",
    "outputId": "3dbdd4a7-f31c-4b4c-d399-5784a7b78a48"
   },
   "outputs": [
    {
     "data": {
      "text/plain": [
       "93747.79628653312"
      ]
     },
     "execution_count": 13,
     "metadata": {},
     "output_type": "execute_result"
    }
   ],
   "source": [
    "# regression-line equation solution for question 2\n",
    "2922.26901502 * 12 + 2221.30909959 * 10 + 2147.48256637 * 10 + 14992.651446693118"
   ]
  },
  {
   "cell_type": "markdown",
   "metadata": {
    "id": "Q_X8I7sCdKaZ"
   },
   "source": [
    "<br><p style=\"font-family:Footlight MT Light;text-align:left;font-size:1.2em;font-weight:bold;color:#8E06E3;\">Conclusion<br>\n",
    "Conclusion<br>We observe the following predictions: <br>1. 02 yrs. experience, 9 test score, 6 interview score = 53713<br> 2. 12 yrs. experience, 10 test score, 10 interview score = 93747<br>\n",
    "</p>"
   ]
  }
 ],
 "metadata": {
  "colab": {
   "collapsed_sections": [],
   "name": "Assignment4.ipynb",
   "provenance": []
  },
  "kernelspec": {
   "display_name": "Python 3",
   "language": "python",
   "name": "python3"
  },
  "language_info": {
   "codemirror_mode": {
    "name": "ipython",
    "version": 3
   },
   "file_extension": ".py",
   "mimetype": "text/x-python",
   "name": "python",
   "nbconvert_exporter": "python",
   "pygments_lexer": "ipython3",
   "version": "3.9.7"
  },
  "papermill": {
   "duration": 7.062433,
   "end_time": "2021-01-25T06:29:48.068882",
   "environment_variables": {},
   "exception": null,
   "input_path": "__notebook__.ipynb",
   "output_path": "__notebook__.ipynb",
   "parameters": {},
   "start_time": "2021-01-25T06:29:41.006449",
   "version": "2.1.0"
  }
 },
 "nbformat": 4,
 "nbformat_minor": 1
}
